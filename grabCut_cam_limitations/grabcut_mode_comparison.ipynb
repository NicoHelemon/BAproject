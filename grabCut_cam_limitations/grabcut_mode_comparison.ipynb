{
 "cells": [
  {
   "cell_type": "code",
   "execution_count": 1,
   "metadata": {},
   "outputs": [],
   "source": [
    "import numpy as np\n",
    "import cv2\n",
    "import os\n",
    "import json\n",
    "import utils\n",
    "import matplotlib.pyplot as plt"
   ]
  },
  {
   "cell_type": "code",
   "execution_count": 2,
   "metadata": {},
   "outputs": [],
   "source": [
    "input_directory = r'images\\processed\\session_3\\\\'\n",
    "\n",
    "images_name, images, bboxes = utils.load(input_directory)\n",
    "\n",
    "images_name = images_name[:5]"
   ]
  },
  {
   "cell_type": "code",
   "execution_count": 3,
   "metadata": {},
   "outputs": [],
   "source": [
    "def compare(image, bbox):\n",
    "    # bbox--probable foreground | definite background\n",
    "    \n",
    "    mask0, binMask0 = utils.grabCut(image, bbox)\n",
    "    \n",
    "    # mask--probable foreground | definite background\n",
    "    \n",
    "    mask1 = utils.bboxToMask(image, bbox, cv2.GC_BGD)\n",
    "    mask1, binMask1 = utils.grabCut(image, mask1, mode = 'MASK')\n",
    "    \n",
    "    # mask--probable foreground | probable background\n",
    "    \n",
    "    mask2 = utils.bboxToMask(image, bbox, cv2.GC_PR_BGD)\n",
    "    mask2, binMask2 = utils.grabCut(image, mask2, mode = 'MASK')\n",
    "    \n",
    "    print(\"bbox == mask   :\", np.array_equal(mask0, mask1))\n",
    "    print(\"BGD  == PR_BDG :\", np.array_equal(mask1, mask2))"
   ]
  },
  {
   "cell_type": "code",
   "execution_count": 4,
   "metadata": {},
   "outputs": [
    {
     "name": "stdout",
     "output_type": "stream",
     "text": [
      "bbox == mask   : True\n",
      "BGD  == PR_BDG : False\n",
      "bbox == mask   : True\n",
      "BGD  == PR_BDG : False\n",
      "bbox == mask   : True\n",
      "BGD  == PR_BDG : False\n",
      "bbox == mask   : True\n",
      "BGD  == PR_BDG : False\n",
      "bbox == mask   : True\n",
      "BGD  == PR_BDG : False\n",
      "bbox == mask   : True\n",
      "BGD  == PR_BDG : False\n",
      "bbox == mask   : True\n",
      "BGD  == PR_BDG : False\n",
      "bbox == mask   : True\n",
      "BGD  == PR_BDG : False\n",
      "bbox == mask   : True\n",
      "BGD  == PR_BDG : False\n",
      "bbox == mask   : True\n",
      "BGD  == PR_BDG : False\n",
      "bbox == mask   : True\n",
      "BGD  == PR_BDG : False\n",
      "bbox == mask   : True\n",
      "BGD  == PR_BDG : False\n"
     ]
    }
   ],
   "source": [
    "for name in images_name:\n",
    "    image = images[name]\n",
    "    bbox = bboxes[name]\n",
    "    for i in range(len(bbox)):\n",
    "        compare(image, bbox[i])"
   ]
  }
 ],
 "metadata": {
  "kernelspec": {
   "display_name": "Python 3",
   "language": "python",
   "name": "python3"
  },
  "language_info": {
   "codemirror_mode": {
    "name": "ipython",
    "version": 3
   },
   "file_extension": ".py",
   "mimetype": "text/x-python",
   "name": "python",
   "nbconvert_exporter": "python",
   "pygments_lexer": "ipython3",
   "version": "3.7.3"
  }
 },
 "nbformat": 4,
 "nbformat_minor": 4
}
