{
 "cells": [
  {
   "cell_type": "code",
   "execution_count": 1,
   "metadata": {},
   "outputs": [],
   "source": [
    "import numpy as np\n",
    "import cv2\n",
    "import os\n",
    "import json\n",
    "import utils\n",
    "\n",
    "#input_directory = r'images\\processed\\non_cropped\\\\'\n",
    "#target_directory = r'output\\session_1\\grabCut\\\\'\n",
    "\n",
    "input_directory = r'images\\processed\\non_cropped\\\\'\n",
    "\n",
    "images_name = []\n",
    "\n",
    "for name in os.listdir(input_directory):\n",
    "    if name.endswith(\".jpg\"):\n",
    "        images_name.append(name)\n",
    "        \n",
    "images = {}\n",
    "\n",
    "for name in images_name:\n",
    "    images[name] = cv2.imread(input_directory + name)\n",
    "    \n",
    "bboxes = json.loads(open(input_directory + \"images_bboxes.json\", \"r\").read())"
   ]
  },
  {
   "cell_type": "code",
   "execution_count": 2,
   "metadata": {},
   "outputs": [
    {
     "name": "stdout",
     "output_type": "stream",
     "text": [
      "True\n",
      "True\n",
      "True\n",
      "True\n",
      "True\n",
      "True\n",
      "True\n",
      "True\n",
      "True\n",
      "True\n",
      "True\n",
      "True\n",
      "True\n",
      "True\n",
      "True\n",
      "True\n",
      "True\n",
      "True\n",
      "True\n",
      "True\n",
      "True\n",
      "True\n",
      "True\n",
      "True\n",
      "True\n",
      "True\n",
      "True\n",
      "True\n",
      "True\n",
      "True\n"
     ]
    }
   ],
   "source": [
    "for name in images_name:\n",
    "    image = images[name]\n",
    "    for bbox in bboxes[name]:\n",
    "        _, outputMask1 = utils.grabCut(image, bbox)\n",
    "        _, outputMask2 = utils.grabCut(image, bbox)\n",
    "        print(np.array_equal(outputMask1, outputMask2))"
   ]
  }
 ],
 "metadata": {
  "kernelspec": {
   "display_name": "Python 3",
   "language": "python",
   "name": "python3"
  },
  "language_info": {
   "codemirror_mode": {
    "name": "ipython",
    "version": 3
   },
   "file_extension": ".py",
   "mimetype": "text/x-python",
   "name": "python",
   "nbconvert_exporter": "python",
   "pygments_lexer": "ipython3",
   "version": "3.7.3"
  }
 },
 "nbformat": 4,
 "nbformat_minor": 4
}
