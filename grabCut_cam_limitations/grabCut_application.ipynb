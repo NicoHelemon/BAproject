{
 "cells": [
  {
   "cell_type": "code",
   "execution_count": 1,
   "metadata": {},
   "outputs": [],
   "source": [
    "import numpy as np\n",
    "import cv2\n",
    "import os\n",
    "import json\n",
    "import utils"
   ]
  },
  {
   "cell_type": "code",
   "execution_count": 2,
   "metadata": {},
   "outputs": [],
   "source": [
    "#input_directory = r'images\\processed\\non_cropped\\\\'\n",
    "#target_directory = r'output\\session_1\\grabCut\\\\'\n",
    "\n",
    "input_directory = r'images\\processed\\session_3\\\\'\n",
    "target_directory = r'output\\session_3\\grabcut\\\\'"
   ]
  },
  {
   "cell_type": "code",
   "execution_count": 3,
   "metadata": {},
   "outputs": [],
   "source": [
    "images_name = []\n",
    "\n",
    "for name in os.listdir(input_directory):\n",
    "    if name.endswith(\".jpg\"):\n",
    "        images_name.append(name)"
   ]
  },
  {
   "cell_type": "code",
   "execution_count": 4,
   "metadata": {},
   "outputs": [],
   "source": [
    "images = {}\n",
    "\n",
    "for name in images_name:\n",
    "    images[name] = cv2.imread(input_directory + name)"
   ]
  },
  {
   "cell_type": "code",
   "execution_count": 5,
   "metadata": {},
   "outputs": [],
   "source": [
    "bboxes = json.loads(open(input_directory + \"images_bboxes.json\", \"r\").read())"
   ]
  },
  {
   "cell_type": "markdown",
   "metadata": {},
   "source": [
    "### Bbox"
   ]
  },
  {
   "cell_type": "code",
   "execution_count": 6,
   "metadata": {},
   "outputs": [],
   "source": [
    "for name in images_name:\n",
    "    image = images[name]\n",
    "    bbox = bboxes[name]\n",
    "    for i in range(len(bbox)):\n",
    "        cv2.imwrite(target_directory + f'BBOX_{name[:-4]}_{i+1}.jpg', utils.drawBbox(image, bbox[i]))"
   ]
  },
  {
   "cell_type": "markdown",
   "metadata": {},
   "source": [
    "### Mask and ouput"
   ]
  },
  {
   "cell_type": "code",
   "execution_count": 7,
   "metadata": {},
   "outputs": [],
   "source": [
    "def applyGrabCutAndWriteOutputs(image, bbox, name, num):\n",
    "    if num > 0:\n",
    "        _, outputMask = utils.grabCut(image, bbox)\n",
    "        output = cv2.bitwise_and(image, image, mask=outputMask)\n",
    "        cv2.imwrite(target_directory + f'DEFBGD_MASK_{name}_{num}.jpg', outputMask)\n",
    "        cv2.imwrite(target_directory + f'DEFBGD_OUTPUT_{name}_{num}.jpg', output)\n",
    "\n",
    "        _, outputMask = utils.grabCut(image, utils.bboxToMask(image, bbox, cv2.GC_PR_BGD), mode = 'MASK')\n",
    "        output = cv2.bitwise_and(image, image, mask=outputMask)\n",
    "        cv2.imwrite(target_directory + f'PROBBGD_MASK_{name}_{num}.jpg', outputMask)\n",
    "        cv2.imwrite(target_directory + f'PROBBGD_OUTPUT_{name}_{num}.jpg', output)\n",
    "    else:\n",
    "        _, outputMask = utils.grabCut(image, bbox)\n",
    "        output = cv2.bitwise_and(image, image, mask=outputMask)\n",
    "        cv2.imwrite(target_directory + f'FULLBBOX_MASK_{name}.jpg', outputMask)\n",
    "        cv2.imwrite(target_directory + f'FULLBBOX_OUTPUT_{name}.jpg', output)"
   ]
  },
  {
   "cell_type": "code",
   "execution_count": 8,
   "metadata": {},
   "outputs": [],
   "source": [
    "for name in images_name:\n",
    "    image = images[name]\n",
    "    applyGrabCutAndWriteOutputs(image, utils.fullBoundingBox(image), name[:-4], 0)"
   ]
  },
  {
   "cell_type": "code",
   "execution_count": 9,
   "metadata": {},
   "outputs": [],
   "source": [
    "for name in images_name:\n",
    "    image = images[name]\n",
    "    bbox = bboxes[name]\n",
    "    for i in range(len(bbox)):\n",
    "        applyGrabCutAndWriteOutputs(image, bbox[i], name[:-4], i+1)"
   ]
  }
 ],
 "metadata": {
  "kernelspec": {
   "display_name": "Python 3",
   "language": "python",
   "name": "python3"
  },
  "language_info": {
   "codemirror_mode": {
    "name": "ipython",
    "version": 3
   },
   "file_extension": ".py",
   "mimetype": "text/x-python",
   "name": "python",
   "nbconvert_exporter": "python",
   "pygments_lexer": "ipython3",
   "version": "3.7.3"
  }
 },
 "nbformat": 4,
 "nbformat_minor": 4
}
