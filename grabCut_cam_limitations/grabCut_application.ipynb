{
 "cells": [
  {
   "cell_type": "code",
   "execution_count": 17,
   "metadata": {},
   "outputs": [],
   "source": [
    "import numpy as np\n",
    "import cv2\n",
    "import os\n",
    "import json\n",
    "import utils"
   ]
  },
  {
   "cell_type": "code",
   "execution_count": 18,
   "metadata": {},
   "outputs": [],
   "source": [
    "input_directory = r'images\\processed\\session_3\\\\'\n",
    "target_directory = r'output\\session_4\\grabcut\\\\'\n",
    "\n",
    "images_name, images, _, bboxes = utils.load(input_directory)"
   ]
  },
  {
   "cell_type": "markdown",
   "metadata": {},
   "source": [
    "### Bbox"
   ]
  },
  {
   "cell_type": "code",
   "execution_count": 21,
   "metadata": {},
   "outputs": [],
   "source": [
    "for name in images_name:\n",
    "    image = images[name]\n",
    "    bbox = bboxes[name]\n",
    "    for i in range(len(bbox)):\n",
    "        cv2.imwrite(target_directory + f'bbox\\\\{name[:-4]}_{i+1}.jpg', utils.drawBbox(image, bbox[i]))"
   ]
  },
  {
   "cell_type": "markdown",
   "metadata": {},
   "source": [
    "### Mask and ouput"
   ]
  },
  {
   "cell_type": "code",
   "execution_count": 22,
   "metadata": {},
   "outputs": [],
   "source": [
    "def applyGrabCutAndWriteOutputs(image, bbox, name, num):\n",
    "    if num > 0:\n",
    "        mask, binMask = utils.grabCut(image, bbox)\n",
    "        output = cv2.bitwise_and(image, image, mask = binMask)\n",
    "        cv2.imwrite(target_directory + f'definite\\MASK_{name}_{num}.jpg', utils.maskToGrayImage(mask))\n",
    "        cv2.imwrite(target_directory + f'definite\\OUTPUT_{name}_{num}.jpg', output)\n",
    "\n",
    "        mask, binMask = utils.grabCut(image, utils.bboxToMask(image, bbox, cv2.GC_PR_BGD), mode = 'MASK')\n",
    "        output = cv2.bitwise_and(image, image, mask = binMask)\n",
    "        cv2.imwrite(target_directory + f'probable\\MASK_{name}_{num}.jpg', utils.maskToGrayImage(mask))\n",
    "        cv2.imwrite(target_directory + f'probable\\OUTPUT_{name}_{num}.jpg', output)\n",
    "    else:\n",
    "        mask, binMask = utils.grabCut(image, bbox)\n",
    "        output = cv2.bitwise_and(image, image, mask = binMask)\n",
    "        cv2.imwrite(target_directory + f'full\\MASK_{name}.jpg', utils.maskToGrayImage(mask))\n",
    "        cv2.imwrite(target_directory + f'full\\OUTPUT_{name}.jpg', output)"
   ]
  },
  {
   "cell_type": "code",
   "execution_count": 23,
   "metadata": {},
   "outputs": [],
   "source": [
    "for name in images_name:\n",
    "    image = images[name]\n",
    "    applyGrabCutAndWriteOutputs(image, utils.fullBoundingBox(image), name[:-4], 0)"
   ]
  },
  {
   "cell_type": "code",
   "execution_count": 24,
   "metadata": {},
   "outputs": [],
   "source": [
    "for name in images_name:\n",
    "    image = images[name]\n",
    "    bbox = bboxes[name]\n",
    "    for i in range(len(bbox)):\n",
    "        applyGrabCutAndWriteOutputs(image, bbox[i], name[:-4], i+1)"
   ]
  }
 ],
 "metadata": {
  "kernelspec": {
   "display_name": "Python 3",
   "language": "python",
   "name": "python3"
  },
  "language_info": {
   "codemirror_mode": {
    "name": "ipython",
    "version": 3
   },
   "file_extension": ".py",
   "mimetype": "text/x-python",
   "name": "python",
   "nbconvert_exporter": "python",
   "pygments_lexer": "ipython3",
   "version": "3.7.3"
  }
 },
 "nbformat": 4,
 "nbformat_minor": 4
}
