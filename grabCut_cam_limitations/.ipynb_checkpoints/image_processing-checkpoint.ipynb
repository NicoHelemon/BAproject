{
 "cells": [
  {
   "cell_type": "code",
   "execution_count": 1,
   "metadata": {},
   "outputs": [],
   "source": [
    "import numpy as np\n",
    "import cv2\n",
    "import os\n",
    "import json\n",
    "import utils"
   ]
  },
  {
   "cell_type": "markdown",
   "metadata": {},
   "source": [
    "### Image loading"
   ]
  },
  {
   "cell_type": "code",
   "execution_count": 2,
   "metadata": {},
   "outputs": [],
   "source": [
    "#input_directory = r'images\\original_images\\\\'\n",
    "#target_directory = r'images\\processed\\non_cropped\\\\'\n",
    "\n",
    "input_directory = r'images\\original_images\\set_3\\\\'\n",
    "target_directory = r'images\\processed\\session_3\\\\'\n",
    "\n",
    "images_name = []\n",
    "\n",
    "for name in os.listdir(input_directory):\n",
    "    if name.endswith(\".jpg\"):\n",
    "        images_name.append(name)"
   ]
  },
  {
   "cell_type": "code",
   "execution_count": 3,
   "metadata": {},
   "outputs": [],
   "source": [
    "images = {}\n",
    "\n",
    "for name in images_name:\n",
    "    images[name] = cv2.imread(input_directory + name)"
   ]
  },
  {
   "cell_type": "markdown",
   "metadata": {},
   "source": [
    "### Image processing"
   ]
  },
  {
   "cell_type": "code",
   "execution_count": 6,
   "metadata": {},
   "outputs": [],
   "source": [
    "for name in images_name:\n",
    "    images[name] = utils.resize_target_area(images[name])\n",
    "    cv2.imwrite(target_directory + name, images[name])"
   ]
  },
  {
   "cell_type": "code",
   "execution_count": null,
   "metadata": {},
   "outputs": [],
   "source": [
    "### Bounding boxes"
   ]
  },
  {
   "cell_type": "code",
   "execution_count": 10,
   "metadata": {},
   "outputs": [
    {
     "name": "stdout",
     "output_type": "stream",
     "text": [
      "Define new box for this image? [y/next_image]y\n",
      "Define new box for this image? [y/next_image]n\n",
      "Define new box for this image? [y/next_image]y\n",
      "Define new box for this image? [y/next_image]n\n",
      "Define new box for this image? [y/next_image]y\n",
      "Define new box for this image? [y/next_image]n\n",
      "Define new box for this image? [y/next_image]y\n",
      "Define new box for this image? [y/next_image]n\n",
      "Define new box for this image? [y/next_image]y\n",
      "Define new box for this image? [y/next_image]n\n",
      "Define new box for this image? [y/next_image]y\n",
      "Define new box for this image? [y/next_image]n\n",
      "Define new box for this image? [y/next_image]y\n",
      "Define new box for this image? [y/next_image]y\n",
      "Define new box for this image? [y/next_image]y\n",
      "Define new box for this image? [y/next_image]n\n",
      "Define new box for this image? [y/next_image]y\n",
      "Define new box for this image? [y/next_image]n\n",
      "Define new box for this image? [y/next_image]y\n",
      "Define new box for this image? [y/next_image]y\n",
      "Define new box for this image? [y/next_image]y\n",
      "Define new box for this image? [y/next_image]n\n",
      "Define new box for this image? [y/next_image]y\n",
      "Define new box for this image? [y/next_image]n\n"
     ]
    }
   ],
   "source": [
    "images_bboxes = {}\n",
    "\n",
    "for name in images_name:\n",
    "    bboxes = []\n",
    "    while input(\"Define new box for this image? [y/next_image]\") == \"y\":\n",
    "        bboxes.append(utils.boundingBox(images[name]))\n",
    "    images_bboxes[name] = bboxes"
   ]
  },
  {
   "cell_type": "code",
   "execution_count": null,
   "metadata": {},
   "outputs": [],
   "source": [
    "for name in images_name:\n",
    "    bboxes = images_bboxes[name]\n",
    "    for j in range(len(bboxes)):\n",
    "        cv2.imshow(f\"Cropped {name} {j}\", utils.crop(images[name], bboxes[j]))\n",
    "        cv2.waitKey(0)\n",
    "        cv2.destroyAllWindows()"
   ]
  },
  {
   "cell_type": "code",
   "execution_count": 11,
   "metadata": {},
   "outputs": [],
   "source": [
    "images_bboxes_file = open(target_directory + \"images_bboxes.json\", \"w\")\n",
    "json.dump(images_bboxes, images_bboxes_file)\n",
    "images_bboxes_file.close()"
   ]
  },
  {
   "cell_type": "code",
   "execution_count": null,
   "metadata": {},
   "outputs": [],
   "source": []
  }
 ],
 "metadata": {
  "kernelspec": {
   "display_name": "Python 3",
   "language": "python",
   "name": "python3"
  },
  "language_info": {
   "codemirror_mode": {
    "name": "ipython",
    "version": 3
   },
   "file_extension": ".py",
   "mimetype": "text/x-python",
   "name": "python",
   "nbconvert_exporter": "python",
   "pygments_lexer": "ipython3",
   "version": "3.7.3"
  }
 },
 "nbformat": 4,
 "nbformat_minor": 4
}
