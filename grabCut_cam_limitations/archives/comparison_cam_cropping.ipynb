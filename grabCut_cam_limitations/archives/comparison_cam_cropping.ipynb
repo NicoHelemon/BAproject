{
 "cells": [
  {
   "cell_type": "code",
   "execution_count": 1,
   "metadata": {},
   "outputs": [],
   "source": [
    "import json\n",
    "import os"
   ]
  },
  {
   "cell_type": "code",
   "execution_count": 2,
   "metadata": {},
   "outputs": [],
   "source": [
    "images_name = []\n",
    "\n",
    "input_directory = r'images\\original_images\\\\'\n",
    "\n",
    "for name in os.listdir(input_directory):\n",
    "    if name.endswith(\".jpg\"):\n",
    "        images_name.append(name)"
   ]
  },
  {
   "cell_type": "code",
   "execution_count": 3,
   "metadata": {},
   "outputs": [],
   "source": [
    "images_prediction_square_cropped = json.loads(open(\"output\\session_2\\cam_square_cropped\\images_predictions.json\", \"r\").read())\n",
    "\n",
    "images_prediction_non_cropped = json.loads(open(\"output\\session_2\\cam_non_cropped\\images_predictions.json\", \"r\").read())"
   ]
  },
  {
   "cell_type": "code",
   "execution_count": 8,
   "metadata": {},
   "outputs": [],
   "source": [
    "comparison = f'square cropped images{\"\":<7} vs {\"\":>3} non cropped images\\n\\n'\n",
    "for name in images_name:\n",
    "    for (pred1, pred2) in zip(images_prediction_square_cropped[name], images_prediction_non_cropped[name]):\n",
    "        prob1, class1 = pred1\n",
    "        prob2, class2 = pred2\n",
    "        #print(f'{prob1}, {class1 :<22} vs {prob2:>8}, {class2}')\n",
    "        comparison += f'{prob1}, {class1 :<22} vs {prob2:>8}, {class2}\\n'\n",
    "    #print('')\n",
    "    comparison += '\\n'\n",
    "comparison = comparison[:-2]"
   ]
  },
  {
   "cell_type": "code",
   "execution_count": 9,
   "metadata": {},
   "outputs": [],
   "source": [
    "comparison_file = open(\"output\\session_2\\comparison.txt\", \"w\")\n",
    "comparison_file.write(comparison)\n",
    "comparison_file.close()"
   ]
  },
  {
   "cell_type": "code",
   "execution_count": null,
   "metadata": {},
   "outputs": [],
   "source": []
  }
 ],
 "metadata": {
  "kernelspec": {
   "display_name": "Python 3",
   "language": "python",
   "name": "python3"
  },
  "language_info": {
   "codemirror_mode": {
    "name": "ipython",
    "version": 3
   },
   "file_extension": ".py",
   "mimetype": "text/x-python",
   "name": "python",
   "nbconvert_exporter": "python",
   "pygments_lexer": "ipython3",
   "version": "3.7.3"
  }
 },
 "nbformat": 4,
 "nbformat_minor": 4
}
