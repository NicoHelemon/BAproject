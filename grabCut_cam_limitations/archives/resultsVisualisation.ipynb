{
 "cells": [
  {
   "cell_type": "code",
   "execution_count": 1,
   "metadata": {},
   "outputs": [],
   "source": [
    "import numpy as np\n",
    "import cv2\n",
    "import os\n",
    "import json\n",
    "import utils"
   ]
  },
  {
   "cell_type": "code",
   "execution_count": 2,
   "metadata": {},
   "outputs": [],
   "source": [
    "images_directory = r'C:\\Users\\Nicol\\Documents\\EPFL\\BA7\\Project\\Files\\cam\\images'"
   ]
  },
  {
   "cell_type": "code",
   "execution_count": 3,
   "metadata": {},
   "outputs": [],
   "source": [
    "images_name = []\n",
    "\n",
    "for name in os.listdir(images_directory):\n",
    "    if name.endswith(\".jpg\"):\n",
    "        images_name.append(name)"
   ]
  },
  {
   "cell_type": "code",
   "execution_count": 4,
   "metadata": {},
   "outputs": [],
   "source": [
    "bboxes = json.loads(open(\"images/images_bboxes.json\", \"r\").read())"
   ]
  },
  {
   "cell_type": "code",
   "execution_count": 5,
   "metadata": {},
   "outputs": [],
   "source": [
    "classes = json.loads(open(\"camResults/images_classe.json\", \"r\").read())"
   ]
  },
  {
   "cell_type": "code",
   "execution_count": 6,
   "metadata": {},
   "outputs": [],
   "source": [
    "\n",
    "for name in images_name:\n",
    "    namejpg = name\n",
    "    name = name[:-4]\n",
    "    cv2.imshow(name, cv2.imread(f'images/{name}.jpg'))\n",
    "    cv2.waitKey(0)\n",
    "    cv2.destroyAllWindows()\n",
    "    \n",
    "    cv2.imshow(f'predicted class: {classes[namejpg]}', cv2.imread(f'camResults/{name}_CAM.jpg'))\n",
    "    cv2.waitKey(0)\n",
    "    cv2.destroyAllWindows()\n",
    "    \n",
    "    cv2.imshow(f'{name} full bbox output', cv2.imread(f'grabCutResults/{name}_OUTPUT0.jpg'))\n",
    "    cv2.imshow(f'{name} full bbox mask ', cv2.imread(f'grabCutResults/{name}_MASK0.jpg'))\n",
    "    cv2.waitKey(0)\n",
    "    cv2.destroyAllWindows()\n",
    "    \n",
    "    bbox = bboxes[namejpg]\n",
    "    for i in range(len(bbox)):\n",
    "        cv2.imshow(f'{name} output {i+1}', cv2.imread(f'grabCutResults/{name}_OUTPUT{i+1}.jpg'))\n",
    "        cv2.imshow(f'{name} mask {i+1}', cv2.imread(f'grabCutResults/{name}_MASK{i+1}.jpg'))\n",
    "        cv2.imshow(f'{name} bbox {i+1}', cv2.imread(f'grabCutResults/{name}_BBOX{i+1}.jpg'))\n",
    "        cv2.waitKey(0)\n",
    "        cv2.destroyAllWindows()"
   ]
  }
 ],
 "metadata": {
  "kernelspec": {
   "display_name": "Python 3",
   "language": "python",
   "name": "python3"
  },
  "language_info": {
   "codemirror_mode": {
    "name": "ipython",
    "version": 3
   },
   "file_extension": ".py",
   "mimetype": "text/x-python",
   "name": "python",
   "nbconvert_exporter": "python",
   "pygments_lexer": "ipython3",
   "version": "3.7.3"
  }
 },
 "nbformat": 4,
 "nbformat_minor": 4
}
