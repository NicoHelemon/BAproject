{
 "cells": [
  {
   "cell_type": "code",
   "execution_count": 1,
   "metadata": {},
   "outputs": [],
   "source": [
    "import numpy as np\n",
    "import pandas as pd\n",
    "import matplotlib.pyplot as plt"
   ]
  },
  {
   "cell_type": "code",
   "execution_count": 2,
   "metadata": {},
   "outputs": [],
   "source": [
    "pd.set_option('display.max_rows', 500)\n",
    "pd.set_option('display.max_columns', 500)\n",
    "pd.set_option('display.width', 1000)\n",
    "pd.set_option('display.float_format', lambda x: '%.3f' % x)"
   ]
  },
  {
   "cell_type": "code",
   "execution_count": 8,
   "metadata": {},
   "outputs": [],
   "source": [
    "df = pd.read_csv('IoU.csv')"
   ]
  },
  {
   "cell_type": "code",
   "execution_count": 9,
   "metadata": {},
   "outputs": [
    {
     "name": "stdout",
     "output_type": "stream",
     "text": [
      "                                                 Name  Class  Difficulty  cBbox  Area  IoU\n",
      "0   2007_000032,aeroplane,0,\"[103, 77, 374, 182]\",...    nan         nan    nan   nan  nan\n",
      "1   2007_000032,aeroplane,0,\"[132, 87, 196, 122]\",...    nan         nan    nan   nan  nan\n",
      "2   2007_000032,person,0,\"[194, 179, 212, 228]\",88...    nan         nan    nan   nan  nan\n",
      "3   2007_000032,person,0,\"[25, 188, 43, 237]\",882,...    nan         nan    nan   nan  nan\n",
      "4   2007_000033,aeroplane,0,\"[8, 106, 498, 262]\",7...    nan         nan    nan   nan  nan\n",
      "5   2007_000033,aeroplane,0,\"[420, 199, 481, 225]\"...    nan         nan    nan   nan  nan\n",
      "6   2007_000033,aeroplane,0,\"[324, 187, 410, 222]\"...    nan         nan    nan   nan  nan\n",
      "7   2007_000039,tvmonitor,0,\"[155, 88, 343, 278]\",...    nan         nan    nan   nan  nan\n",
      "8   2007_000042,train,0,\"[262, 31, 499, 294]\",6233...    nan         nan    nan   nan  nan\n",
      "9   2007_000042,train,0,\"[0, 35, 234, 298]\",61542,...    nan         nan    nan   nan  nan\n",
      "10  2007_000061,boat,0,\"[273, 10, 436, 278]\",43684...    nan         nan    nan   nan  nan\n",
      "11  2007_000061,boat,0,\"[183, 213, 280, 251]\",3686...    nan         nan    nan   nan  nan\n",
      "12  2007_000063,dog,0,\"[122, 114, 378, 274]\",40960...    nan         nan    nan   nan  nan\n",
      "13  2007_000063,chair,0,\"[74, 0, 427, 374]\",132022...    nan         nan    nan   nan  nan\n",
      "14  2007_000068,bird,0,\"[26, 44, 265, 374]\",78870,...    nan         nan    nan   nan  nan\n",
      "15  2007_000121,tvmonitor,0,\"[250, 27, 474, 266]\",...    nan         nan    nan   nan  nan\n",
      "16  2007_000121,tvmonitor,0,\"[21, 27, 250, 272]\",5...    nan         nan    nan   nan  nan\n",
      "17  2007_000123,train,0,\"[0, 25, 357, 339]\",112098...    nan         nan    nan   nan  nan\n",
      "18  2007_000129,bicycle,0,\"[69, 201, 254, 499]\",55...    nan         nan    nan   nan  nan\n",
      "19  2007_000129,bicycle,1,\"[250, 241, 333, 499]\",2...    nan         nan    nan   nan  nan\n",
      "20  2007_000129,bicycle,1,\"[0, 143, 66, 435]\",1927...    nan         nan    nan   nan  nan\n",
      "21  2007_000129,person,1,\"[0, 0, 65, 362]\",23530,0...    nan         nan    nan   nan  nan\n",
      "22  2007_000129,person,0,\"[73, 0, 271, 461]\",91278...    nan         nan    nan   nan  nan\n",
      "23  2007_000129,person,0,\"[251, 18, 333, 486]\",383...    nan         nan    nan   nan  nan\n",
      "24  2007_000170,bottle,0,\"[86, 99, 108, 164]\",1430...    nan         nan    nan   nan  nan\n",
      "25  2007_000170,bottle,0,\"[40, 113, 72, 180]\",2144...    nan         nan    nan   nan  nan\n",
      "26  2007_000170,bottle,0,\"[323, 147, 351, 205]\",16...    nan         nan    nan   nan  nan\n",
      "27  2007_000170,bottle,1,\"[425, 156, 442, 194]\",64...    nan         nan    nan   nan  nan\n",
      "28   2007_000170,person,0,\"[2, 90, 42, 205]\",4600,0.0    nan         nan    nan   nan  nan\n",
      "29  2007_000170,person,0,\"[3, 27, 460, 371]\",15720...    nan         nan    nan   nan  nan\n"
     ]
    }
   ],
   "source": [
    "print(df[:30])"
   ]
  },
  {
   "cell_type": "code",
   "execution_count": 5,
   "metadata": {},
   "outputs": [
    {
     "ename": "KeyError",
     "evalue": "'IoU'",
     "output_type": "error",
     "traceback": [
      "\u001b[1;31m---------------------------------------------------------------------------\u001b[0m",
      "\u001b[1;31mKeyError\u001b[0m                                  Traceback (most recent call last)",
      "\u001b[1;32m~\\Miniconda3\\lib\\site-packages\\pandas\\core\\indexes\\base.py\u001b[0m in \u001b[0;36mget_loc\u001b[1;34m(self, key, method, tolerance)\u001b[0m\n\u001b[0;32m   2894\u001b[0m             \u001b[1;32mtry\u001b[0m\u001b[1;33m:\u001b[0m\u001b[1;33m\u001b[0m\u001b[1;33m\u001b[0m\u001b[0m\n\u001b[1;32m-> 2895\u001b[1;33m                 \u001b[1;32mreturn\u001b[0m \u001b[0mself\u001b[0m\u001b[1;33m.\u001b[0m\u001b[0m_engine\u001b[0m\u001b[1;33m.\u001b[0m\u001b[0mget_loc\u001b[0m\u001b[1;33m(\u001b[0m\u001b[0mcasted_key\u001b[0m\u001b[1;33m)\u001b[0m\u001b[1;33m\u001b[0m\u001b[1;33m\u001b[0m\u001b[0m\n\u001b[0m\u001b[0;32m   2896\u001b[0m             \u001b[1;32mexcept\u001b[0m \u001b[0mKeyError\u001b[0m \u001b[1;32mas\u001b[0m \u001b[0merr\u001b[0m\u001b[1;33m:\u001b[0m\u001b[1;33m\u001b[0m\u001b[1;33m\u001b[0m\u001b[0m\n",
      "\u001b[1;32mpandas\\_libs\\index.pyx\u001b[0m in \u001b[0;36mpandas._libs.index.IndexEngine.get_loc\u001b[1;34m()\u001b[0m\n",
      "\u001b[1;32mpandas\\_libs\\index.pyx\u001b[0m in \u001b[0;36mpandas._libs.index.IndexEngine.get_loc\u001b[1;34m()\u001b[0m\n",
      "\u001b[1;32mpandas\\_libs\\hashtable_class_helper.pxi\u001b[0m in \u001b[0;36mpandas._libs.hashtable.PyObjectHashTable.get_item\u001b[1;34m()\u001b[0m\n",
      "\u001b[1;32mpandas\\_libs\\hashtable_class_helper.pxi\u001b[0m in \u001b[0;36mpandas._libs.hashtable.PyObjectHashTable.get_item\u001b[1;34m()\u001b[0m\n",
      "\u001b[1;31mKeyError\u001b[0m: 'IoU'",
      "\nThe above exception was the direct cause of the following exception:\n",
      "\u001b[1;31mKeyError\u001b[0m                                  Traceback (most recent call last)",
      "\u001b[1;32m<ipython-input-5-0d01e569c10e>\u001b[0m in \u001b[0;36m<module>\u001b[1;34m\u001b[0m\n\u001b[1;32m----> 1\u001b[1;33m \u001b[0mdf_z\u001b[0m \u001b[1;33m=\u001b[0m \u001b[0mdf\u001b[0m\u001b[1;33m.\u001b[0m\u001b[0mloc\u001b[0m\u001b[1;33m[\u001b[0m\u001b[0mdf\u001b[0m\u001b[1;33m[\u001b[0m\u001b[1;34m'IoU'\u001b[0m\u001b[1;33m]\u001b[0m \u001b[1;33m==\u001b[0m \u001b[1;36m0\u001b[0m\u001b[1;33m]\u001b[0m\u001b[1;33m\u001b[0m\u001b[1;33m\u001b[0m\u001b[0m\n\u001b[0m\u001b[0;32m      2\u001b[0m \u001b[0mdf_nz\u001b[0m \u001b[1;33m=\u001b[0m \u001b[0mdf\u001b[0m\u001b[1;33m.\u001b[0m\u001b[0mloc\u001b[0m\u001b[1;33m[\u001b[0m\u001b[0mdf\u001b[0m\u001b[1;33m[\u001b[0m\u001b[1;34m'IoU'\u001b[0m\u001b[1;33m]\u001b[0m \u001b[1;33m!=\u001b[0m \u001b[1;36m0\u001b[0m\u001b[1;33m]\u001b[0m\u001b[1;33m\u001b[0m\u001b[1;33m\u001b[0m\u001b[0m\n",
      "\u001b[1;32m~\\Miniconda3\\lib\\site-packages\\pandas\\core\\frame.py\u001b[0m in \u001b[0;36m__getitem__\u001b[1;34m(self, key)\u001b[0m\n\u001b[0;32m   2904\u001b[0m             \u001b[1;32mif\u001b[0m \u001b[0mself\u001b[0m\u001b[1;33m.\u001b[0m\u001b[0mcolumns\u001b[0m\u001b[1;33m.\u001b[0m\u001b[0mnlevels\u001b[0m \u001b[1;33m>\u001b[0m \u001b[1;36m1\u001b[0m\u001b[1;33m:\u001b[0m\u001b[1;33m\u001b[0m\u001b[1;33m\u001b[0m\u001b[0m\n\u001b[0;32m   2905\u001b[0m                 \u001b[1;32mreturn\u001b[0m \u001b[0mself\u001b[0m\u001b[1;33m.\u001b[0m\u001b[0m_getitem_multilevel\u001b[0m\u001b[1;33m(\u001b[0m\u001b[0mkey\u001b[0m\u001b[1;33m)\u001b[0m\u001b[1;33m\u001b[0m\u001b[1;33m\u001b[0m\u001b[0m\n\u001b[1;32m-> 2906\u001b[1;33m             \u001b[0mindexer\u001b[0m \u001b[1;33m=\u001b[0m \u001b[0mself\u001b[0m\u001b[1;33m.\u001b[0m\u001b[0mcolumns\u001b[0m\u001b[1;33m.\u001b[0m\u001b[0mget_loc\u001b[0m\u001b[1;33m(\u001b[0m\u001b[0mkey\u001b[0m\u001b[1;33m)\u001b[0m\u001b[1;33m\u001b[0m\u001b[1;33m\u001b[0m\u001b[0m\n\u001b[0m\u001b[0;32m   2907\u001b[0m             \u001b[1;32mif\u001b[0m \u001b[0mis_integer\u001b[0m\u001b[1;33m(\u001b[0m\u001b[0mindexer\u001b[0m\u001b[1;33m)\u001b[0m\u001b[1;33m:\u001b[0m\u001b[1;33m\u001b[0m\u001b[1;33m\u001b[0m\u001b[0m\n\u001b[0;32m   2908\u001b[0m                 \u001b[0mindexer\u001b[0m \u001b[1;33m=\u001b[0m \u001b[1;33m[\u001b[0m\u001b[0mindexer\u001b[0m\u001b[1;33m]\u001b[0m\u001b[1;33m\u001b[0m\u001b[1;33m\u001b[0m\u001b[0m\n",
      "\u001b[1;32m~\\Miniconda3\\lib\\site-packages\\pandas\\core\\indexes\\base.py\u001b[0m in \u001b[0;36mget_loc\u001b[1;34m(self, key, method, tolerance)\u001b[0m\n\u001b[0;32m   2895\u001b[0m                 \u001b[1;32mreturn\u001b[0m \u001b[0mself\u001b[0m\u001b[1;33m.\u001b[0m\u001b[0m_engine\u001b[0m\u001b[1;33m.\u001b[0m\u001b[0mget_loc\u001b[0m\u001b[1;33m(\u001b[0m\u001b[0mcasted_key\u001b[0m\u001b[1;33m)\u001b[0m\u001b[1;33m\u001b[0m\u001b[1;33m\u001b[0m\u001b[0m\n\u001b[0;32m   2896\u001b[0m             \u001b[1;32mexcept\u001b[0m \u001b[0mKeyError\u001b[0m \u001b[1;32mas\u001b[0m \u001b[0merr\u001b[0m\u001b[1;33m:\u001b[0m\u001b[1;33m\u001b[0m\u001b[1;33m\u001b[0m\u001b[0m\n\u001b[1;32m-> 2897\u001b[1;33m                 \u001b[1;32mraise\u001b[0m \u001b[0mKeyError\u001b[0m\u001b[1;33m(\u001b[0m\u001b[0mkey\u001b[0m\u001b[1;33m)\u001b[0m \u001b[1;32mfrom\u001b[0m \u001b[0merr\u001b[0m\u001b[1;33m\u001b[0m\u001b[1;33m\u001b[0m\u001b[0m\n\u001b[0m\u001b[0;32m   2898\u001b[0m \u001b[1;33m\u001b[0m\u001b[0m\n\u001b[0;32m   2899\u001b[0m         \u001b[1;32mif\u001b[0m \u001b[0mtolerance\u001b[0m \u001b[1;32mis\u001b[0m \u001b[1;32mnot\u001b[0m \u001b[1;32mNone\u001b[0m\u001b[1;33m:\u001b[0m\u001b[1;33m\u001b[0m\u001b[1;33m\u001b[0m\u001b[0m\n",
      "\u001b[1;31mKeyError\u001b[0m: 'IoU'"
     ]
    }
   ],
   "source": [
    "df_z = df.loc[df['IoU'] == 0]\n",
    "df_nz = df.loc[df['IoU'] != 0]"
   ]
  },
  {
   "cell_type": "code",
   "execution_count": null,
   "metadata": {},
   "outputs": [],
   "source": [
    "count_z = df_z.groupby(['Class']).size().reset_index(name='Count_z').set_index('Class')\n",
    "count_nz = df_nz.groupby(['Class']).size().reset_index(name='Count_nz').set_index('Class')\n",
    "\n",
    "count = pd.concat([count_z, count_nz], axis=1)\n",
    "count['Count'] = count['Count_z'] + count['Count_nz']\n",
    "count = count.sort_values(by=['Count'], ascending=False)\n",
    "\n",
    "fig, ax = plt.subplots()\n",
    "\n",
    "ax.bar(count.index, count['Count_z'], label='zero')\n",
    "ax.bar(count.index, count['Count_nz'], bottom = count['Count_z'], label='non-zero')\n",
    "\n",
    "ax.set_ylabel('Count')\n",
    "ax.set_xlabel('Class')\n",
    "ax.set_title('Count by class')\n",
    "ax.legend()\n",
    "\n",
    "plt.show()\n",
    "fig.savefig(\"Count_by_class.jpg\")"
   ]
  }
 ],
 "metadata": {
  "kernelspec": {
   "display_name": "Python 3",
   "language": "python",
   "name": "python3"
  },
  "language_info": {
   "codemirror_mode": {
    "name": "ipython",
    "version": 3
   },
   "file_extension": ".py",
   "mimetype": "text/x-python",
   "name": "python",
   "nbconvert_exporter": "python",
   "pygments_lexer": "ipython3",
   "version": "3.7.3"
  }
 },
 "nbformat": 4,
 "nbformat_minor": 4
}
