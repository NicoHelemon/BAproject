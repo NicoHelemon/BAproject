{
 "cells": [
  {
   "cell_type": "markdown",
   "metadata": {},
   "source": [
    "The following functions are probably for the most part very badly implemented regarding computational and memory efficiency. It's only a \"toy program\". My only goal here was comprehension. In future cases, I'll probably refer more intensively to numpy and pytorch libraries."
   ]
  },
  {
   "cell_type": "code",
   "execution_count": 1,
   "metadata": {},
   "outputs": [],
   "source": [
    "import numpy as np"
   ]
  },
  {
   "cell_type": "code",
   "execution_count": 2,
   "metadata": {},
   "outputs": [],
   "source": [
    "def dim_transform(N, K, P, S):\n",
    "    return (N - K + 2 * P) // S + 1"
   ]
  },
  {
   "cell_type": "code",
   "execution_count": 3,
   "metadata": {},
   "outputs": [],
   "source": [
    "def inv_dim_transform(M, K, P, S):\n",
    "    return S * (M - 1) + K - 2 * P"
   ]
  },
  {
   "cell_type": "code",
   "execution_count": 4,
   "metadata": {},
   "outputs": [],
   "source": [
    "def padding(M, P):\n",
    "    return np.pad(M, (P,), 'constant', constant_values=(0))"
   ]
  },
  {
   "cell_type": "code",
   "execution_count": 5,
   "metadata": {},
   "outputs": [],
   "source": [
    "# square sub matrix centered in (i,j) of size 2P+1 \n",
    "def sub(M, i, j, P):\n",
    "    return M[i-P:i+P+1, j-P:j+P+1]"
   ]
  },
  {
   "cell_type": "code",
   "execution_count": 6,
   "metadata": {},
   "outputs": [],
   "source": [
    "def convolution(A, B):\n",
    "    return (A * B).sum()"
   ]
  },
  {
   "cell_type": "code",
   "execution_count": 7,
   "metadata": {},
   "outputs": [],
   "source": [
    "def sliding_convolution(In, F, S = 1, pad = True):\n",
    "    K = F.shape[0]\n",
    "    P = (K - 1) // 2\n",
    "    H, W = In.shape[0], In.shape[1]\n",
    "    H_out, W_out = dim_transform(H, K, P * int(pad), S), dim_transform(W, K, P * int(pad), S)\n",
    "    Out = np.zeros((H_out, W_out))\n",
    "    if pad:\n",
    "        In = padding(In, P)\n",
    "    for i in range(H_out):\n",
    "        for j in range(W_out):\n",
    "            Out[i, j] = convolution(sub(In, (i*S) + P, (j*S)+ P, P), F)\n",
    "    return Out"
   ]
  },
  {
   "cell_type": "code",
   "execution_count": 8,
   "metadata": {},
   "outputs": [],
   "source": [
    "A = np.random.rand(5, 5)\n",
    "F = np.ones((3, 3))"
   ]
  },
  {
   "cell_type": "code",
   "execution_count": 9,
   "metadata": {},
   "outputs": [
    {
     "name": "stdout",
     "output_type": "stream",
     "text": [
      "[[2.33101906 2.89236213 2.13699966 2.33803597 1.7766929 ]\n",
      " [3.11676472 3.85082942 2.63767375 2.97136731 2.23730261]\n",
      " [3.30577191 4.48852629 3.77289345 3.52959849 2.34684411]\n",
      " [2.23232131 4.12602027 3.73447055 3.92601259 2.03231362]\n",
      " [1.44657564 3.16755299 3.23379646 3.29268125 1.5717039 ]]\n"
     ]
    }
   ],
   "source": [
    "print(sliding_convolution(A, F, 1))"
   ]
  },
  {
   "cell_type": "code",
   "execution_count": 10,
   "metadata": {},
   "outputs": [],
   "source": [
    "def dimension_out(In, Ker, S = 1, pad = True):\n",
    "    B = In[0]\n",
    "    C = In[1]\n",
    "    H = In[2]\n",
    "    W = In[3]\n",
    "    C_in = Ker[0]\n",
    "    C_out = Ker[1]\n",
    "    K = Ker[2]\n",
    "    P = int(pad) * (K - 1) // 2\n",
    "    \n",
    "    if C_in != C:\n",
    "        print(\"dimension error\")\n",
    "    else:\n",
    "        return np.array([B, C_out, dim_transform(H, K, P, S), dim_transform(W, K, P, S)])"
   ]
  },
  {
   "cell_type": "code",
   "execution_count": 11,
   "metadata": {},
   "outputs": [],
   "source": [
    "def dimension_in(Out, Ker, S = 1, pad = True):\n",
    "    B = Out[0]\n",
    "    C = Out[1]\n",
    "    H = Out[2]\n",
    "    W = Out[3]\n",
    "    C_in = Ker[0]\n",
    "    C_out = Ker[1]\n",
    "    K = Ker[2]\n",
    "    P = int(pad) * (K - 1) // 2\n",
    "    \n",
    "    if C_out != C:\n",
    "        print(\"dimension error\")\n",
    "    else:\n",
    "        return np.array([B, C_in, inv_dim_transform(H, K, P, S), inv_dim_transform(W, K, P, S)])"
   ]
  },
  {
   "cell_type": "code",
   "execution_count": 12,
   "metadata": {},
   "outputs": [
    {
     "name": "stdout",
     "output_type": "stream",
     "text": [
      "[ 30  64 222 222]\n"
     ]
    }
   ],
   "source": [
    "print(dimension_out([30, 3, 224, 224], [3, 64, 3], 1, False))"
   ]
  },
  {
   "cell_type": "code",
   "execution_count": 13,
   "metadata": {},
   "outputs": [
    {
     "name": "stdout",
     "output_type": "stream",
     "text": [
      "[ 30   3 222 222]\n"
     ]
    }
   ],
   "source": [
    "print(dimension_in([30, 64, 222, 222], [3, 64, 3], 1, True))"
   ]
  },
  {
   "cell_type": "code",
   "execution_count": 14,
   "metadata": {},
   "outputs": [],
   "source": [
    "def convo_Layer(In, Kernel):\n",
    "    B, C = In.shape[0], In.shape[1]\n",
    "    C_in, C_out = Kernel.shape[0], Kernel.shape[1]\n",
    "    Out = np.zeros(dimension_out(In.shape, Kernel.shape))\n",
    "    \n",
    "    for img in range(B):\n",
    "        for co in range(C_out):\n",
    "            current = np.zeros(Out.shape[2:])\n",
    "            for ci in range(C_in):\n",
    "                current += sliding_convolution(In[img][ci], Kernel[ci][co])\n",
    "            Out[img][co] = current\n",
    "    return Out"
   ]
  },
  {
   "cell_type": "code",
   "execution_count": 15,
   "metadata": {},
   "outputs": [],
   "source": [
    "In = np.random.rand(10, 2, 40, 40)\n",
    "Kernel = np.random.rand(2, 10, 3, 3)"
   ]
  },
  {
   "cell_type": "code",
   "execution_count": 16,
   "metadata": {},
   "outputs": [],
   "source": [
    "Out = convo_Layer(In, Kernel)"
   ]
  },
  {
   "cell_type": "code",
   "execution_count": null,
   "metadata": {},
   "outputs": [],
   "source": []
  }
 ],
 "metadata": {
  "kernelspec": {
   "display_name": "Python 3",
   "language": "python",
   "name": "python3"
  },
  "language_info": {
   "codemirror_mode": {
    "name": "ipython",
    "version": 3
   },
   "file_extension": ".py",
   "mimetype": "text/x-python",
   "name": "python",
   "nbconvert_exporter": "python",
   "pygments_lexer": "ipython3",
   "version": "3.7.3"
  }
 },
 "nbformat": 4,
 "nbformat_minor": 4
}
