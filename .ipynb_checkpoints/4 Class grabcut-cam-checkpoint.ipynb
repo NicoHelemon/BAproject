{
 "cells": [
  {
   "cell_type": "code",
   "execution_count": 1,
   "metadata": {},
   "outputs": [
    {
     "name": "stderr",
     "output_type": "stream",
     "text": [
      "C:\\Users\\Nicol\\miniconda3\\lib\\site-packages\\torchvision\\io\\image.py:11: UserWarning: Failed to load image Python extension: Could not find module 'C:\\Users\\Nicol\\miniconda3\\Lib\\site-packages\\torchvision\\image.pyd' (or one of its dependencies). Try using the full path with constructor syntax.\n",
      "  warn(f\"Failed to load image Python extension: {e}\")\n"
     ]
    }
   ],
   "source": [
    "from torchvision import transforms\n",
    "import torch\n",
    "import numpy as np\n",
    "import cv2\n",
    "from matplotlib import pyplot as plt\n",
    "from PIL import Image\n",
    "import timeit\n",
    "import pandas as pd\n",
    "import gc\n",
    "from pathlib import Path\n",
    "\n",
    "import utils.image as im\n",
    "import utils.cam as cam\n",
    "import utils.grabcut as gcut\n",
    "import utils.voc as voc\n",
    "import utils.json as json\n",
    "import utils.path as path\n",
    "from utils.VOCSegmentation import VOCSegmentation"
   ]
  },
  {
   "cell_type": "code",
   "execution_count": 2,
   "metadata": {},
   "outputs": [],
   "source": [
    "FB_threshold = 0.1"
   ]
  },
  {
   "cell_type": "code",
   "execution_count": 3,
   "metadata": {},
   "outputs": [],
   "source": [
    "root_path = path.goback_from_current_dir(0)\n",
    "\n",
    "json_path = root_path + 'json\\\\'\n",
    "\n",
    "output_path  = root_path + r'sessions\\4 Class grabcut-cam\\threshold_0' + str(int(FB_threshold * 10)) + '\\\\'"
   ]
  },
  {
   "cell_type": "code",
   "execution_count": 4,
   "metadata": {},
   "outputs": [],
   "source": [
    "Path(output_path).mkdir(parents=True, exist_ok=True)"
   ]
  },
  {
   "cell_type": "code",
   "execution_count": 5,
   "metadata": {},
   "outputs": [],
   "source": [
    "camnet = cam.Cam()"
   ]
  },
  {
   "cell_type": "code",
   "execution_count": 6,
   "metadata": {},
   "outputs": [],
   "source": [
    "data_tbl = VOCSegmentation(root = root_path,\n",
    "                           year = '2012',\n",
    "                           image_set = 'trainval',\n",
    "                           download = False,\n",
    "                           transform = transforms.ToTensor(),\n",
    "                           target_transform = transforms.ToTensor(),\n",
    "                           transforms = None,\n",
    "                           target = 'Class')"
   ]
  },
  {
   "cell_type": "code",
   "execution_count": 7,
   "metadata": {},
   "outputs": [],
   "source": [
    "data = iter(torch.utils.data.DataLoader(data_tbl,\n",
    "                                        batch_size = 1,\n",
    "                                        shuffle = False,\n",
    "                                        num_workers = 0))"
   ]
  },
  {
   "cell_type": "code",
   "execution_count": 8,
   "metadata": {},
   "outputs": [],
   "source": [
    "annotations = json.open_json(json_path + \"voc-class-annotations\")\n",
    "N = len(annotations)\n",
    "annotations = iter(annotations.items())\n",
    "\n",
    "classes = json.open_json(json_path + \"voc-classes\")"
   ]
  },
  {
   "cell_type": "code",
   "execution_count": 9,
   "metadata": {
    "scrolled": false
   },
   "outputs": [
    {
     "name": "stdout",
     "output_type": "stream",
     "text": [
      "Image nb 0\n",
      "Time spent               =   0m01s\n",
      "Estimated time remaining =  52m36s\n",
      "Mean IoU                 =  0.030\n",
      "Mean Acc                 =  0.375\n",
      "\n",
      "[0.0358967 0.4953994 0.001484 ]\n",
      "\n",
      "Image nb 2\n",
      "Time spent               =   0m02s\n",
      "Estimated time remaining =  41m15s\n",
      "Mean IoU                 =  0.166\n",
      "Mean Acc                 =  0.467\n",
      "\n",
      "[0.0318037  0.5951956  0.00172025]\n",
      "\n",
      "Image nb 4\n",
      "Time spent               =   0m04s\n",
      "Estimated time remaining =  40m05s\n",
      "Mean IoU                 =  0.250\n",
      "Mean Acc                 =  0.524\n",
      "\n",
      "[0.03053045 0.64748412 0.0017315 ]\n",
      "\n",
      "Image nb 6\n",
      "Time spent               =   0m08s\n",
      "Estimated time remaining =  56m00s\n",
      "Mean IoU                 =  0.269\n",
      "Mean Acc                 =  0.523\n",
      "\n",
      "[0.03009227 0.85929769 0.00181249]\n",
      "\n",
      "Image nb 8\n",
      "Time spent               =   0m09s\n",
      "Estimated time remaining =  53m09s\n",
      "Mean IoU                 =  0.285\n",
      "Mean Acc                 =  0.503\n",
      "\n",
      "[0.02998412 0.85822483 0.00188026]\n",
      "\n",
      "Image nb 10\n",
      "Time spent               =   0m14s\n",
      "Estimated time remaining =  63m15s\n",
      "Mean IoU                 =  0.298\n",
      "Mean Acc                 =  0.509\n",
      "\n",
      "[0.02953163 0.92022958 0.0019044 ]\n",
      "\n",
      "Image nb 12\n",
      "Time spent               =   0m15s\n",
      "Estimated time remaining =  57m47s\n",
      "Mean IoU                 =  0.329\n",
      "Mean Acc                 =  0.533\n",
      "\n",
      "[0.02895817 0.87587458 0.00190988]\n",
      "\n"
     ]
    },
    {
     "ename": "KeyboardInterrupt",
     "evalue": "",
     "output_type": "error",
     "traceback": [
      "\u001b[1;31m---------------------------------------------------------------------------\u001b[0m",
      "\u001b[1;31mKeyboardInterrupt\u001b[0m                         Traceback (most recent call last)",
      "\u001b[1;32m~\\AppData\\Local\\Temp/ipykernel_16868/4224795240.py\u001b[0m in \u001b[0;36m<module>\u001b[1;34m\u001b[0m\n\u001b[0;32m     30\u001b[0m         \u001b[0ms\u001b[0m \u001b[1;33m=\u001b[0m \u001b[0mtimeit\u001b[0m\u001b[1;33m.\u001b[0m\u001b[0mdefault_timer\u001b[0m\u001b[1;33m(\u001b[0m\u001b[1;33m)\u001b[0m\u001b[1;33m\u001b[0m\u001b[1;33m\u001b[0m\u001b[0m\n\u001b[0;32m     31\u001b[0m \u001b[1;33m\u001b[0m\u001b[0m\n\u001b[1;32m---> 32\u001b[1;33m         \u001b[0m_\u001b[0m\u001b[1;33m,\u001b[0m \u001b[0m_\u001b[0m\u001b[1;33m,\u001b[0m \u001b[0mpred\u001b[0m \u001b[1;33m=\u001b[0m \u001b[0mgcut\u001b[0m\u001b[1;33m.\u001b[0m\u001b[0mgrabcut\u001b[0m\u001b[1;33m(\u001b[0m\u001b[0mimg_cv2\u001b[0m\u001b[1;33m,\u001b[0m \u001b[0mgcmask_cam\u001b[0m\u001b[1;33m,\u001b[0m \u001b[0mmode\u001b[0m \u001b[1;33m=\u001b[0m \u001b[1;34m'MASK'\u001b[0m\u001b[1;33m)\u001b[0m\u001b[1;33m\u001b[0m\u001b[1;33m\u001b[0m\u001b[0m\n\u001b[0m\u001b[0;32m     33\u001b[0m         \u001b[0mpred\u001b[0m \u001b[1;33m=\u001b[0m \u001b[0mpred\u001b[0m\u001b[1;33m.\u001b[0m\u001b[0mastype\u001b[0m\u001b[1;33m(\u001b[0m\u001b[0mbool\u001b[0m\u001b[1;33m)\u001b[0m\u001b[1;33m\u001b[0m\u001b[1;33m\u001b[0m\u001b[0m\n\u001b[0;32m     34\u001b[0m \u001b[1;33m\u001b[0m\u001b[0m\n",
      "\u001b[1;32m~\\Documents\\Nicolas\\Project\\Code\\utils\\grabcut.py\u001b[0m in \u001b[0;36mgrabcut\u001b[1;34m(img, mask, iterCount, mode)\u001b[0m\n\u001b[0;32m     16\u001b[0m \u001b[1;33m\u001b[0m\u001b[0m\n\u001b[0;32m     17\u001b[0m     \u001b[1;32melif\u001b[0m \u001b[0mmode\u001b[0m \u001b[1;33m==\u001b[0m \u001b[1;34m'MASK'\u001b[0m\u001b[1;33m:\u001b[0m\u001b[1;33m\u001b[0m\u001b[1;33m\u001b[0m\u001b[0m\n\u001b[1;32m---> 18\u001b[1;33m         mask, _, _ = cv2.grabCut(\n\u001b[0m\u001b[0;32m     19\u001b[0m         \u001b[0mimg\u001b[0m\u001b[1;33m,\u001b[0m\u001b[1;33m\u001b[0m\u001b[1;33m\u001b[0m\u001b[0m\n\u001b[0;32m     20\u001b[0m         \u001b[0mmask\u001b[0m\u001b[1;33m,\u001b[0m\u001b[1;33m\u001b[0m\u001b[1;33m\u001b[0m\u001b[0m\n",
      "\u001b[1;31mKeyboardInterrupt\u001b[0m: "
     ]
    }
   ],
   "source": [
    "IoU  = []\n",
    "Acc  = []\n",
    "time = []\n",
    "\n",
    "for i in range(N):\n",
    "    gc.collect()\n",
    "    start = timeit.default_timer()\n",
    "    \n",
    "    img, sgm = next(data)\n",
    "    img, sgm = torch.squeeze(img), torch.squeeze(sgm)\n",
    "\n",
    "    img_pil = img\n",
    "    img_cv2 = im.pil_to_cv2(img.numpy())\n",
    "    sgm     = im.f1_to_f255(sgm.numpy())\n",
    "    \n",
    "    name, annots = next(annotations)\n",
    "    \n",
    "    for c in annots:\n",
    "        \n",
    "        img_cam = camnet.get_top(img_pil, c)\n",
    "        img_cam = cam.cam_process(img_pil, img_cam)\n",
    "        gcmask_cam = cam.cam_to_gcmask(img_cam, a = 0.0, b = FB_threshold, c = 1.0)\n",
    "        _, _, pred = gcut.grabcut(img_cv2, gcmask_cam, mode = 'MASK')\n",
    "        pred = pred.astype(bool)\n",
    "        \n",
    "        true = voc.true_mask(sgm, classes.index(c) + 1).astype(bool)\n",
    "        \n",
    "        IoU.append(voc.IoU(true, pred, sgm))\n",
    "        Acc.append(voc.accuracy(true, pred, sgm))\n",
    "        \n",
    "    stop = timeit.default_timer()\n",
    "    time.append(stop - start)\n",
    "    if i % 20 == 0:\n",
    "        print(f'Image nb {i}')\n",
    "        print(f'Time spent               = ' + voc.time_str(np.sum(time)))\n",
    "        print(f'Estimated time remaining = ' + voc.time_str(np.mean(time) * (N - 1 - i)))\n",
    "        print(f'Mean IoU                 =  {np.mean(IoU) :.3f}')\n",
    "        print(f'Mean Acc                 =  {np.mean(Acc) :.3f}')\n",
    "        print()"
   ]
  },
  {
   "cell_type": "code",
   "execution_count": null,
   "metadata": {},
   "outputs": [],
   "source": [
    "print(f'Mean IoU = {np.mean(IoU):.3f}')\n",
    "print(f'Mean Acc = {np.mean(Acc):.3f}')"
   ]
  },
  {
   "cell_type": "code",
   "execution_count": null,
   "metadata": {},
   "outputs": [],
   "source": [
    "df = pd.read_csv(json_path + 'voc-class-annotations.csv')"
   ]
  },
  {
   "cell_type": "code",
   "execution_count": null,
   "metadata": {},
   "outputs": [],
   "source": [
    "df['IoU'] = IoU\n",
    "df['Accuracy'] = Acc"
   ]
  },
  {
   "cell_type": "code",
   "execution_count": null,
   "metadata": {},
   "outputs": [],
   "source": [
    "df.to_csv(output_path + 'IoU.csv', index = False)"
   ]
  }
 ],
 "metadata": {
  "kernelspec": {
   "display_name": "Python 3 (ipykernel)",
   "language": "python",
   "name": "python3"
  },
  "language_info": {
   "codemirror_mode": {
    "name": "ipython",
    "version": 3
   },
   "file_extension": ".py",
   "mimetype": "text/x-python",
   "name": "python",
   "nbconvert_exporter": "python",
   "pygments_lexer": "ipython3",
   "version": "3.9.5"
  }
 },
 "nbformat": 4,
 "nbformat_minor": 4
}
