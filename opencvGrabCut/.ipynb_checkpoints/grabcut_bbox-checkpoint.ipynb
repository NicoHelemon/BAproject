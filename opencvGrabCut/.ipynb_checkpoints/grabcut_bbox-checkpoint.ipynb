{
 "cells": [
  {
   "cell_type": "code",
   "execution_count": 1,
   "metadata": {},
   "outputs": [],
   "source": [
    "# Adaptation of https://www.pyimagesearch.com/2020/07/27/opencv-grabcut-foreground-segmentation-and-extraction/\n",
    "# Other ressources: https://learnopencv.com/how-to-select-a-bounding-box-roi-in-opencv-cpp-python/"
   ]
  },
  {
   "cell_type": "code",
   "execution_count": 2,
   "metadata": {},
   "outputs": [],
   "source": [
    "import numpy as np\n",
    "import cv2"
   ]
  },
  {
   "cell_type": "code",
   "execution_count": 5,
   "metadata": {},
   "outputs": [],
   "source": [
    "def boundingBox(image):\n",
    "    r = cv2.selectROI(image)\n",
    "    cv2.destroyAllWindows()\n",
    "    return r"
   ]
  },
  {
   "cell_type": "code",
   "execution_count": 6,
   "metadata": {},
   "outputs": [],
   "source": [
    "def crop(image, bbox):\n",
    "    return image[bbox[1]:bbox[1]+bbox[3], bbox[0]:bbox[0]+bbox[2]]"
   ]
  },
  {
   "cell_type": "code",
   "execution_count": 7,
   "metadata": {},
   "outputs": [],
   "source": [
    "def boolarrayToImg(a):\n",
    "    return a.astype(\"uint8\") * 255"
   ]
  },
  {
   "cell_type": "code",
   "execution_count": 8,
   "metadata": {},
   "outputs": [],
   "source": [
    "# Applies cv2.grabCut algorithm to an image and a bounding box\n",
    "# It returns \"mask\", i.e. a 2d-array of shape image (w/o the channel) whose pixels take\n",
    "# value in {0,1,2,3} = {background, foreground, probable background, probable foreground} \n",
    "# It also returns the final true output mask, a 2d-array again of shape image whose pixels\n",
    "# take value in {0,1} = {background, foreground}, which can be used with a bitwise operator.\n",
    "\n",
    "def grabCut(image, bbox):\n",
    "    mask, _, _ = cv2.grabCut(\n",
    "    image, \n",
    "    np.zeros(image.shape[:2], dtype=\"uint8\"), \n",
    "    bbox, \n",
    "    np.zeros((1, 65), dtype=\"float\"),\n",
    "    np.zeros((1, 65), dtype=\"float\"), \n",
    "    iterCount=10, \n",
    "    mode=cv2.GC_INIT_WITH_RECT)\n",
    "    \n",
    "    outputMask = boolarrayToImg(np.where((mask == cv2.GC_BGD) | (mask == cv2.GC_PR_BGD), 0, 1))\n",
    "    \n",
    "    return mask, outputMask"
   ]
  },
  {
   "cell_type": "code",
   "execution_count": 9,
   "metadata": {},
   "outputs": [],
   "source": [
    "def maskPreview(mask):\n",
    "    values = (\n",
    "    (\"Definite Background\", cv2.GC_BGD),\n",
    "    (\"Probable Background\", cv2.GC_PR_BGD),\n",
    "    (\"Definite Foreground\", cv2.GC_FGD),\n",
    "    (\"Probable Foreground\", cv2.GC_PR_FGD))\n",
    "\n",
    "    for (name, value) in values:\n",
    "        valueMask = boolarrayToImg((mask == value))\n",
    "        cv2.imshow(name, valueMask)\n",
    "        cv2.waitKey(0)\n",
    "        cv2.destroyAllWindows()"
   ]
  },
  {
   "cell_type": "markdown",
   "metadata": {},
   "source": [
    "## Main"
   ]
  },
  {
   "cell_type": "code",
   "execution_count": 19,
   "metadata": {},
   "outputs": [],
   "source": [
    "image = cv2.imread(r'images/smol_dog.jpg')"
   ]
  },
  {
   "cell_type": "code",
   "execution_count": 20,
   "metadata": {},
   "outputs": [],
   "source": [
    "cv2.imshow(\"Imput image\", image)\n",
    "cv2.waitKey(0)\n",
    "cv2.destroyAllWindows()"
   ]
  },
  {
   "cell_type": "code",
   "execution_count": 21,
   "metadata": {},
   "outputs": [],
   "source": [
    "bbox = boundingBox(image)"
   ]
  },
  {
   "cell_type": "code",
   "execution_count": 23,
   "metadata": {},
   "outputs": [],
   "source": [
    "cv2.imshow(\"Cropped image\", crop(image, bbox))\n",
    "cv2.waitKey(0)\n",
    "cv2.destroyAllWindows()"
   ]
  },
  {
   "cell_type": "code",
   "execution_count": 15,
   "metadata": {},
   "outputs": [],
   "source": [
    "mask, outputMask = grabCut(image, bbox)"
   ]
  },
  {
   "cell_type": "code",
   "execution_count": 16,
   "metadata": {},
   "outputs": [],
   "source": [
    "# maskPreview(mask)"
   ]
  },
  {
   "cell_type": "code",
   "execution_count": 17,
   "metadata": {},
   "outputs": [],
   "source": [
    "output = cv2.bitwise_and(image, image, mask=outputMask)"
   ]
  },
  {
   "cell_type": "code",
   "execution_count": 18,
   "metadata": {},
   "outputs": [],
   "source": [
    "cv2.imshow(\"Input image\", image)\n",
    "cv2.imshow(\"GrabCut Mask\", outputMask)\n",
    "cv2.imshow(\"GrabCut Output\", output)\n",
    "cv2.waitKey(0)\n",
    "cv2.destroyAllWindows()"
   ]
  }
 ],
 "metadata": {
  "kernelspec": {
   "display_name": "Python 3",
   "language": "python",
   "name": "python3"
  },
  "language_info": {
   "codemirror_mode": {
    "name": "ipython",
    "version": 3
   },
   "file_extension": ".py",
   "mimetype": "text/x-python",
   "name": "python",
   "nbconvert_exporter": "python",
   "pygments_lexer": "ipython3",
   "version": "3.7.3"
  }
 },
 "nbformat": 4,
 "nbformat_minor": 4
}
