{
 "cells": [
  {
   "cell_type": "code",
   "execution_count": 9,
   "metadata": {},
   "outputs": [],
   "source": [
    "import numpy as np\n",
    "import cv2\n",
    "import os\n",
    "import json\n",
    "import utils"
   ]
  },
  {
   "cell_type": "code",
   "execution_count": 2,
   "metadata": {},
   "outputs": [],
   "source": [
    "images_directory = r'C:\\Users\\Nicol\\Documents\\EPFL\\BA7\\Project\\Files\\cam\\original_images'\n",
    "\n",
    "images_name = []\n",
    "\n",
    "for name in os.listdir(images_directory):\n",
    "    if name.endswith(\".jpg\"):\n",
    "        images_name.append(name)"
   ]
  },
  {
   "cell_type": "code",
   "execution_count": 3,
   "metadata": {},
   "outputs": [],
   "source": [
    "images = {}\n",
    "\n",
    "for name in images_name:\n",
    "    images[name] = cv2.imread('original_images/' + name)"
   ]
  },
  {
   "cell_type": "code",
   "execution_count": 4,
   "metadata": {},
   "outputs": [],
   "source": [
    "def resize_target_height(image, target_height = 500):\n",
    "    height, width = image.shape[:2]\n",
    "    \n",
    "    dim = (int(width * target_height/height), target_height)\n",
    "    \n",
    "    return cv2.resize(image, dim)"
   ]
  },
  {
   "cell_type": "code",
   "execution_count": 5,
   "metadata": {},
   "outputs": [],
   "source": [
    "def resize_target_area(image, target_area = 250000):\n",
    "    height, width = image.shape[:2]\n",
    "    area = height * width\n",
    "    \n",
    "    factor = np.sqrt(target_area / area)\n",
    "    \n",
    "    dim = (int(width * factor), int(height * factor))\n",
    "    \n",
    "    return cv2.resize(image, dim)"
   ]
  },
  {
   "cell_type": "code",
   "execution_count": 7,
   "metadata": {},
   "outputs": [],
   "source": [
    "for name in images_name:\n",
    "    images[name] = resize_target_area(images[name])\n",
    "    cv2.imwrite('images/' + name, images[name])"
   ]
  },
  {
   "cell_type": "code",
   "execution_count": null,
   "metadata": {},
   "outputs": [],
   "source": [
    "images_bboxes = {}\n",
    "\n",
    "for name in images_name:\n",
    "    bboxes = []\n",
    "    while input(\"Define new box for this image? [y/next_image]\") == \"y\":\n",
    "        bboxes.append(utils.boundingBox(images[name]))\n",
    "    images_bboxes[name] = bboxes"
   ]
  },
  {
   "cell_type": "code",
   "execution_count": null,
   "metadata": {},
   "outputs": [],
   "source": [
    "for name in images_name:\n",
    "    bboxes = images_bboxes[name]\n",
    "    for j in range(len(bboxes)):\n",
    "        cv2.imshow(f\"Cropped {name} {j}\", utils.crop(images[name], bboxes[j]))\n",
    "        cv2.waitKey(0)\n",
    "        cv2.destroyAllWindows()"
   ]
  },
  {
   "cell_type": "code",
   "execution_count": null,
   "metadata": {},
   "outputs": [],
   "source": [
    "dico_file = open(\"images/images_bboxes.json\", \"w\")\n",
    "json.dump(images_bboxes, dico_file)\n",
    "dico_file.close()"
   ]
  },
  {
   "cell_type": "code",
   "execution_count": null,
   "metadata": {},
   "outputs": [],
   "source": []
  }
 ],
 "metadata": {
  "kernelspec": {
   "display_name": "Python 3",
   "language": "python",
   "name": "python3"
  },
  "language_info": {
   "codemirror_mode": {
    "name": "ipython",
    "version": 3
   },
   "file_extension": ".py",
   "mimetype": "text/x-python",
   "name": "python",
   "nbconvert_exporter": "python",
   "pygments_lexer": "ipython3",
   "version": "3.7.3"
  }
 },
 "nbformat": 4,
 "nbformat_minor": 4
}
