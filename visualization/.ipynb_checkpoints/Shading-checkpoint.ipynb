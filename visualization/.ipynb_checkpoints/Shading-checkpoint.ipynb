{
 "cells": [
  {
   "cell_type": "code",
   "execution_count": 5,
   "id": "34d46f89",
   "metadata": {},
   "outputs": [],
   "source": [
    "import numpy as np\n",
    "import cv2\n",
    "from pathlib import Path\n",
    "\n",
    "import sys\n",
    "sys.path.append('../')\n",
    "import utils.image as im\n",
    "import utils.cam as cam\n",
    "import utils.path as path"
   ]
  },
  {
   "cell_type": "code",
   "execution_count": 2,
   "id": "ea9bf063",
   "metadata": {},
   "outputs": [],
   "source": [
    "shading = cam.heat_map(np.zeros((400, 200, 3)), \n",
    "                       np.stack([np.linspace(0.0, 1.0, num=400) for _ in range(200)], axis=1), \n",
    "                       heat_f = 0.6)"
   ]
  },
  {
   "cell_type": "code",
   "execution_count": 3,
   "id": "22fae1ce",
   "metadata": {},
   "outputs": [
    {
     "data": {
      "image/png": "[encoded data removed]",
      "text/plain": [
       "<Figure size 432x288 with 1 Axes>"
      ]
     },
     "metadata": {
      "needs_background": "light"
     },
     "output_type": "display_data"
    }
   ],
   "source": [
    "im.show(shading)"
   ]
  },
  {
   "cell_type": "code",
   "execution_count": 6,
   "id": "11ce2ed6",
   "metadata": {},
   "outputs": [],
   "source": [
    "output_path = path.goback_from_current_dir(0) + 'images\\\\shading\\\\'\n",
    "Path(output_path).mkdir(parents=True, exist_ok=True)"
   ]
  },
  {
   "cell_type": "code",
   "execution_count": 8,
   "id": "17985dd0",
   "metadata": {},
   "outputs": [
    {
     "data": {
      "text/plain": [
       "True"
      ]
     },
     "execution_count": 8,
     "metadata": {},
     "output_type": "execute_result"
    }
   ],
   "source": [
    "cv2.imwrite(output_path + 'shading.jpg', im.rgb_swap_bgr(shading))"
   ]
  }
 ],
 "metadata": {
  "kernelspec": {
   "display_name": "Python 3 (ipykernel)",
   "language": "python",
   "name": "python3"
  },
  "language_info": {
   "codemirror_mode": {
    "name": "ipython",
    "version": 3
   },
   "file_extension": ".py",
   "mimetype": "text/x-python",
   "name": "python",
   "nbconvert_exporter": "python",
   "pygments_lexer": "ipython3",
   "version": "3.7.3"
  }
 },
 "nbformat": 4,
 "nbformat_minor": 5
}
