{
 "cells": [
  {
   "cell_type": "code",
   "execution_count": 1,
   "metadata": {},
   "outputs": [],
   "source": [
    "import numpy as np\n",
    "import cv2\n",
    "import os\n",
    "import json\n",
    "import utils"
   ]
  },
  {
   "cell_type": "markdown",
   "metadata": {},
   "source": [
    "### Image loading"
   ]
  },
  {
   "cell_type": "code",
   "execution_count": 9,
   "metadata": {},
   "outputs": [],
   "source": [
    "input_directory = r'images\\processed\\session_2\\cropped_original_images\\\\'\n",
    "target_directory = r'images\\processed\\session_2\\\\'\n",
    "\n",
    "images_name = []\n",
    "\n",
    "for name in os.listdir(input_directory):\n",
    "    if name.endswith(\".jpg\"):\n",
    "        images_name.append(name)"
   ]
  },
  {
   "cell_type": "code",
   "execution_count": 10,
   "metadata": {},
   "outputs": [],
   "source": [
    "images = {}\n",
    "\n",
    "for name in images_name:\n",
    "    images[name] = cv2.imread(input_directory + name)"
   ]
  },
  {
   "cell_type": "code",
   "execution_count": 11,
   "metadata": {},
   "outputs": [],
   "source": [
    "def resize_target_height(image, target_height = 500):\n",
    "    height, width = image.shape[:2]\n",
    "    \n",
    "    dim = (int(width * target_height/height), target_height)\n",
    "    \n",
    "    return cv2.resize(image, dim)"
   ]
  },
  {
   "cell_type": "code",
   "execution_count": 12,
   "metadata": {},
   "outputs": [],
   "source": [
    "def resize_target_area(image, target_area = 250000):\n",
    "    height, width = image.shape[:2]\n",
    "    area = height * width\n",
    "    \n",
    "    factor = np.sqrt(target_area / area)\n",
    "    \n",
    "    dim = (int(width * factor), int(height * factor))\n",
    "    \n",
    "    return cv2.resize(image, dim)"
   ]
  },
  {
   "cell_type": "markdown",
   "metadata": {},
   "source": [
    "### Image processing"
   ]
  },
  {
   "cell_type": "code",
   "execution_count": 13,
   "metadata": {},
   "outputs": [],
   "source": [
    "for name in images_name:\n",
    "    images[name] = resize_target_area(images[name])\n",
    "    cv2.imwrite(target_directory + name, images[name])"
   ]
  },
  {
   "cell_type": "markdown",
   "metadata": {},
   "source": [
    "### Bounding boxes"
   ]
  },
  {
   "cell_type": "markdown",
   "metadata": {},
   "source": [
    "images_bboxes = {}\n",
    "\n",
    "for name in images_name:\n",
    "    bboxes = []\n",
    "    while input(\"Define new box for this image? [y/next_image]\") == \"y\":\n",
    "        bboxes.append(utils.boundingBox(images[name]))\n",
    "    images_bboxes[name] = bboxes"
   ]
  },
  {
   "cell_type": "markdown",
   "metadata": {},
   "source": [
    "for name in images_name:\n",
    "    bboxes = images_bboxes[name]\n",
    "    for j in range(len(bboxes)):\n",
    "        cv2.imshow(f\"Cropped {name} {j}\", utils.crop(images[name], bboxes[j]))\n",
    "        cv2.waitKey(0)\n",
    "        cv2.destroyAllWindows()"
   ]
  },
  {
   "cell_type": "markdown",
   "metadata": {},
   "source": [
    "dico_file = open(\"images/images_bboxes.json\", \"w\")\n",
    "json.dump(images_bboxes, dico_file)\n",
    "dico_file.close()"
   ]
  },
  {
   "cell_type": "code",
   "execution_count": null,
   "metadata": {},
   "outputs": [],
   "source": []
  }
 ],
 "metadata": {
  "kernelspec": {
   "display_name": "Python 3",
   "language": "python",
   "name": "python3"
  },
  "language_info": {
   "codemirror_mode": {
    "name": "ipython",
    "version": 3
   },
   "file_extension": ".py",
   "mimetype": "text/x-python",
   "name": "python",
   "nbconvert_exporter": "python",
   "pygments_lexer": "ipython3",
   "version": "3.7.3"
  }
 },
 "nbformat": 4,
 "nbformat_minor": 4
}
