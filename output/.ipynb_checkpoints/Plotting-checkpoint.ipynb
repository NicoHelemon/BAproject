{
 "cells": [
  {
   "cell_type": "code",
   "execution_count": 2,
   "metadata": {},
   "outputs": [],
   "source": [
    "import pandas as pd"
   ]
  },
  {
   "cell_type": "code",
   "execution_count": 3,
   "metadata": {},
   "outputs": [],
   "source": [
    "df = pd.read_csv('class_cam.csv').set_index(['Threshold','Class'])"
   ]
  },
  {
   "cell_type": "code",
   "execution_count": 5,
   "metadata": {},
   "outputs": [],
   "source": [
    "def add_GT_IoU_metrics(df):\n",
    "    df['GT']  = df['TP'] + df['FN']\n",
    "    df['IoU'] = df['TP'] / (df['TP'] + df['FN'] + df['FP'])\n",
    "    \n",
    "    return df"
   ]
  },
  {
   "cell_type": "code",
   "execution_count": 6,
   "metadata": {},
   "outputs": [],
   "source": [
    "def mIoU(df):\n",
    "    mIoU = df['IoU'].groupby(level = 0).agg(['mean'])\n",
    "    return mIoU.rename(index = {0 : \"mIoU\"})"
   ]
  },
  {
   "cell_type": "code",
   "execution_count": 7,
   "metadata": {},
   "outputs": [],
   "source": [
    "def fwIoU(df):\n",
    "    fwIoU = (df['GT'] * df['IoU']).groupby(level=0).agg(['sum']) / df['GT'].groupby(level=0).agg(['sum'])\n",
    "    return fwIoU.rename(index = {0 : \"fwIoU\"})"
   ]
  },
  {
   "cell_type": "code",
   "execution_count": 8,
   "metadata": {},
   "outputs": [],
   "source": [
    "def accuracy(df):\n",
    "    acc = df['TP'].groupby(level=0).agg(['sum']) / df['GT'].groupby(level=0).agg(['sum'])\n",
    "    return acc.rename(index = {0 : \"Accuracy\"})"
   ]
  },
  {
   "cell_type": "code",
   "execution_count": 9,
   "metadata": {},
   "outputs": [],
   "source": [
    "df    = add_GT_IoU_metrics(df)\n",
    "\n",
    "mIoU  = mIoU(df)\n",
    "fwIoU = fwIoU(df)\n",
    "acc   = accuracy(df)"
   ]
  },
  {
   "cell_type": "code",
   "execution_count": null,
   "metadata": {},
   "outputs": [],
   "source": [
    "def GT(TP, FN):\n",
    "    return TP + FN\n",
    "\n",
    "def IoU(TP, FN, FP):\n",
    "    return TP / (TP + FN + FP)\n",
    "\n",
    "df['GT'] = df.apply(lambda d: GT(d['TP'], d['FN']), axis = 1)\n",
    "\n",
    "df['IoU'] = df.apply(lambda d: IoU(d['TP'], d['FN'], d['FP']), axis = 1)\n",
    "\n",
    "mIoU  = df['IoU'].groupby(level=0).agg(['mean'])\n",
    "mIoU  = mIoU.rename(index={0 : \"mIoU\"})\n",
    "\n",
    "fwIoU = df.apply(lambda d: d['GT'] * d['IoU'], axis = 1).groupby(level=0).agg(['sum']) / df['GT'].groupby(level=0).agg(['sum'])\n",
    "fwIoU = fwIoU.rename(index={0 : \"fwIoU\"})\n",
    "\n",
    "acc   = df['TP'].groupby(level=0).agg(['sum']) / df['GT'].groupby(level=0).agg(['sum'])\n",
    "acc   = acc.rename(index={0 : \"Accuracy\"})"
   ]
  }
 ],
 "metadata": {
  "kernelspec": {
   "display_name": "Python 3",
   "language": "python",
   "name": "python3"
  },
  "language_info": {
   "codemirror_mode": {
    "name": "ipython",
    "version": 3
   },
   "file_extension": ".py",
   "mimetype": "text/x-python",
   "name": "python",
   "nbconvert_exporter": "python",
   "pygments_lexer": "ipython3",
   "version": "3.7.3"
  }
 },
 "nbformat": 4,
 "nbformat_minor": 4
}
