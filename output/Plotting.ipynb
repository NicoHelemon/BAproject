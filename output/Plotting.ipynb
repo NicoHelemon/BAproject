{
 "cells": [
  {
   "cell_type": "code",
   "execution_count": 183,
   "metadata": {},
   "outputs": [],
   "source": [
    "import pandas as pd"
   ]
  },
  {
   "cell_type": "code",
   "execution_count": 184,
   "metadata": {},
   "outputs": [],
   "source": [
    "df = pd.read_csv('class_cam.csv').set_index(['Threshold','Class'])"
   ]
  },
  {
   "cell_type": "code",
   "execution_count": 185,
   "metadata": {},
   "outputs": [],
   "source": [
    "df = pd.concat([df, df.rename(index = {0.1 : 0.2})])"
   ]
  },
  {
   "cell_type": "code",
   "execution_count": 186,
   "metadata": {},
   "outputs": [],
   "source": [
    "def add_GT_IoU_metrics(df):\n",
    "    df['GT']  = df['TP'] + df['FN']\n",
    "    df['IoU'] = df['TP'] / (df['TP'] + df['FN'] + df['FP'])\n",
    "    \n",
    "    return df"
   ]
  },
  {
   "cell_type": "code",
   "execution_count": 192,
   "metadata": {},
   "outputs": [],
   "source": [
    "def mIoU(df):\n",
    "    mIoU = df['IoU'].groupby(level = 0).agg(['mean'])\n",
    "    mIoU.columns = ['mIoU']\n",
    "    return mIoU"
   ]
  },
  {
   "cell_type": "code",
   "execution_count": 188,
   "metadata": {},
   "outputs": [],
   "source": [
    "def fwIoU(df):\n",
    "    fwIoU = (df['GT'] * df['IoU']).groupby(level=0).agg(['sum']) / df['GT'].groupby(level=0).agg(['sum'])\n",
    "    fwIoU.columns = ['fwIoU']\n",
    "    return fwIoU"
   ]
  },
  {
   "cell_type": "code",
   "execution_count": 189,
   "metadata": {},
   "outputs": [],
   "source": [
    "def accuracy(df):\n",
    "    acc = df['TP'].groupby(level=0).agg(['sum']) / df['GT'].groupby(level=0).agg(['sum'])\n",
    "    acc.columns = ['acc']\n",
    "    return acc"
   ]
  },
  {
   "cell_type": "code",
   "execution_count": 193,
   "metadata": {},
   "outputs": [],
   "source": [
    "df       = add_GT_IoU_metrics(df)\n",
    "mIoU_df  = mIoU(df)\n",
    "fwIoU_df = fwIoU(df)\n",
    "acc_df   = accuracy(df)"
   ]
  },
  {
   "cell_type": "code",
   "execution_count": 194,
   "metadata": {},
   "outputs": [
    {
     "name": "stdout",
     "output_type": "stream",
     "text": [
      "                             TP       FN        FP        GT       IoU\n",
      "Threshold Class                                                       \n",
      "0.1       aeroplane     3562306   142087  14307084   3704393  0.197780\n",
      "          bicycle       1453021   118127  12202925   1571148  0.105490\n",
      "          bird          3860441   523691  14332400   4384132  0.206258\n",
      "          boat          2742615   120298  14453019   2862913  0.158387\n",
      "          bottle        3285527   153436  19024532   3438963  0.146261\n",
      "          bus           7917000   779374  11528341   8696374  0.391452\n",
      "          car           6750435   337768  23248058   7088203  0.222520\n",
      "          cat          11166958  1306508  14170261  12473466  0.419121\n",
      "          chair         4356728   618556  33472335   4975284  0.113316\n",
      "          cow           4107228   920541   8028002   5027769  0.314591\n",
      "          diningtable   5092748  1153634  13992286   6246382  0.251635\n",
      "          dog           8249139  1130201  11102280   9379340  0.402758\n",
      "          horse         4294837   630839   9140556   4925676  0.305330\n",
      "          motorbike     5111807   364274  12469243   5476081  0.284855\n",
      "          person       21000158  3986838  82168866  24986996  0.195978\n",
      "          pottedplant   2531447   373455  16678782   2904902  0.129263\n",
      "          sheep         3835955   351313   6388407   4187268  0.362715\n",
      "          sofa          6057137  1034327  18893453   7091464  0.233102\n",
      "          train         7308899   594344  13755900   7903243  0.337451\n",
      "          tvmonitor     3851835   269154  19126850   4120989  0.165686\n",
      "0.2       aeroplane     3562306   142087  14307084   3704393  0.197780\n",
      "          bicycle       1453021   118127  12202925   1571148  0.105490\n",
      "          bird          3860441   523691  14332400   4384132  0.206258\n",
      "          boat          2742615   120298  14453019   2862913  0.158387\n",
      "          bottle        3285527   153436  19024532   3438963  0.146261\n",
      "          bus           7917000   779374  11528341   8696374  0.391452\n",
      "          car           6750435   337768  23248058   7088203  0.222520\n",
      "          cat          11166958  1306508  14170261  12473466  0.419121\n",
      "          chair         4356728   618556  33472335   4975284  0.113316\n",
      "          cow           4107228   920541   8028002   5027769  0.314591\n",
      "          diningtable   5092748  1153634  13992286   6246382  0.251635\n",
      "          dog           8249139  1130201  11102280   9379340  0.402758\n",
      "          horse         4294837   630839   9140556   4925676  0.305330\n",
      "          motorbike     5111807   364274  12469243   5476081  0.284855\n",
      "          person       21000158  3986838  82168866  24986996  0.195978\n",
      "          pottedplant   2531447   373455  16678782   2904902  0.129263\n",
      "          sheep         3835955   351313   6388407   4187268  0.362715\n",
      "          sofa          6057137  1034327  18893453   7091464  0.233102\n",
      "          train         7308899   594344  13755900   7903243  0.337451\n",
      "          tvmonitor     3851835   269154  19126850   4120989  0.165686\n",
      "               mIoU\n",
      "Threshold          \n",
      "0.1        0.247197\n",
      "0.2        0.247197\n",
      "              fwIoU\n",
      "Threshold          \n",
      "0.1        0.268714\n",
      "0.2        0.268714\n",
      "                acc\n",
      "Threshold          \n",
      "0.1        0.886578\n",
      "0.2        0.886578\n"
     ]
    }
   ],
   "source": [
    "print(df)\n",
    "print(mIoU_df)\n",
    "print(fwIoU_df)\n",
    "print(acc_df)"
   ]
  }
 ],
 "metadata": {
  "kernelspec": {
   "display_name": "Python 3",
   "language": "python",
   "name": "python3"
  },
  "language_info": {
   "codemirror_mode": {
    "name": "ipython",
    "version": 3
   },
   "file_extension": ".py",
   "mimetype": "text/x-python",
   "name": "python",
   "nbconvert_exporter": "python",
   "pygments_lexer": "ipython3",
   "version": "3.7.3"
  }
 },
 "nbformat": 4,
 "nbformat_minor": 4
}
