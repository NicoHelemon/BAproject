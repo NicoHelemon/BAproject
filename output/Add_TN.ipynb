{
 "cells": [
  {
   "cell_type": "code",
   "execution_count": 17,
   "metadata": {},
   "outputs": [],
   "source": [
    "import pandas as pd\n",
    "import numpy as np\n",
    "import pandas as pd\n",
    "import matplotlib.pyplot as plt\n",
    "from pathlib import Path\n",
    "\n",
    "import sys\n",
    "sys.path.append('../')\n",
    "import utils.path as path\n",
    "import utils.json as json"
   ]
  },
  {
   "cell_type": "code",
   "execution_count": 18,
   "metadata": {},
   "outputs": [],
   "source": [
    "root_path   = path.goback_from_current_dir(1)\n",
    "json_path   = root_path + 'json\\\\'"
   ]
  },
  {
   "cell_type": "code",
   "execution_count": 19,
   "metadata": {},
   "outputs": [],
   "source": [
    "pd.set_option('display.max_rows', 500)\n",
    "pd.set_option('display.max_columns', 500)\n",
    "pd.set_option('display.width', 1000)\n",
    "pd.set_option('display.float_format', lambda x: '%.3f' % x)\n",
    "plt.rcParams[\"figure.figsize\"] = (10, 6)"
   ]
  },
  {
   "cell_type": "code",
   "execution_count": 20,
   "metadata": {},
   "outputs": [],
   "source": [
    "def read_csv(name):\n",
    "    return pd.read_csv(name).set_index(['Threshold','Class'])"
   ]
  },
  {
   "cell_type": "code",
   "execution_count": 21,
   "metadata": {},
   "outputs": [],
   "source": [
    "ogc         = read_csv('object_grabcut.csv')\n",
    "ogcam_PF_PB = read_csv('object_grabcutcam_PF_PB.csv')\n",
    "ogcam_F_PF  = read_csv('object_grabcutcam_F_PF.csv')\n",
    "ogcam_F_PB  = read_csv('object_grabcutcam_F_PB.csv')\n",
    "\n",
    "ccam  = read_csv('class_cam.csv')\n",
    "cgcam = read_csv('class_grabcutcam.csv')"
   ]
  },
  {
   "cell_type": "code",
   "execution_count": 22,
   "metadata": {},
   "outputs": [],
   "source": [
    "object_class_pixel = json.open_json(json_path + 'object_class_pixel')\n",
    "class_class_pixel  = json.open_json(json_path + 'class_class_pixel')"
   ]
  },
  {
   "cell_type": "code",
   "execution_count": 7,
   "metadata": {},
   "outputs": [],
   "source": [
    "def add_TN(df, pixel):\n",
    "    pixel = pixel * (len(df) // 20)\n",
    "    df['TN'] = pixel - df['TP'] - df['FN'] - df['FP']\n",
    "    return df"
   ]
  },
  {
   "cell_type": "code",
   "execution_count": 23,
   "metadata": {},
   "outputs": [],
   "source": [
    "def add_TN2(df, pixel):\n",
    "    pixel = pixel * (len(df) // 20)\n",
    "    df['TN2'] = pixel - df['TP'] - df['FN'] - df['FP']\n",
    "    return df"
   ]
  },
  {
   "cell_type": "code",
   "execution_count": 9,
   "metadata": {},
   "outputs": [],
   "source": [
    "ogc         = add_TN(ogc, object_class_pixel)\n",
    "ogcam_PF_PB = add_TN(ogcam_PF_PB, object_class_pixel)\n",
    "\n",
    "ccam  = add_TN(ccam, class_class_pixel)\n",
    "cgcam = add_TN(cgcam, class_class_pixel)"
   ]
  },
  {
   "cell_type": "code",
   "execution_count": 24,
   "metadata": {},
   "outputs": [],
   "source": [
    "ogcam_F_PF = add_TN2(ogcam_F_PF, object_class_pixel)\n",
    "ogcam_F_PB = add_TN2(ogcam_F_PB, object_class_pixel)"
   ]
  },
  {
   "cell_type": "code",
   "execution_count": 25,
   "metadata": {},
   "outputs": [
    {
     "name": "stdout",
     "output_type": "stream",
     "text": [
      "True\n",
      "True\n"
     ]
    }
   ],
   "source": [
    "print(ogcam_F_PF['TN'].equals(ogcam_F_PF['TN2']))\n",
    "print(ogcam_F_PB['TN'].equals(ogcam_F_PB['TN2']))"
   ]
  },
  {
   "cell_type": "code",
   "execution_count": 16,
   "metadata": {},
   "outputs": [],
   "source": [
    "#ogc.to_csv('object_grabcut.csv')\n",
    "#ogcam_PF_PB.to_csv('object_grabcutcam_PF_PB.csv')\n",
    "\n",
    "#ccam.to_csv('class_cam.csv')\n",
    "#cgcam.to_csv('class_grabcutcam.csv')"
   ]
  }
 ],
 "metadata": {
  "kernelspec": {
   "display_name": "Python 3 (ipykernel)",
   "language": "python",
   "name": "python3"
  },
  "language_info": {
   "codemirror_mode": {
    "name": "ipython",
    "version": 3
   },
   "file_extension": ".py",
   "mimetype": "text/x-python",
   "name": "python",
   "nbconvert_exporter": "python",
   "pygments_lexer": "ipython3",
   "version": "3.7.3"
  }
 },
 "nbformat": 4,
 "nbformat_minor": 4
}
