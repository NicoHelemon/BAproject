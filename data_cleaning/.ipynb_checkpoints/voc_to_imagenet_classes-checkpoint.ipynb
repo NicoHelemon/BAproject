{
 "cells": [
  {
   "cell_type": "code",
   "execution_count": 2,
   "metadata": {},
   "outputs": [],
   "source": [
    "import numpy as np\n",
    "\n",
    "import sys\n",
    "sys.path.append('../')\n",
    "import utils.json as json"
   ]
  },
  {
   "cell_type": "markdown",
   "metadata": {},
   "source": [
    "https://gist.github.com/yrevar/942d3a0ac09ec9e5eb3a\n",
    "https://observablehq.com/@mbostock/imagenet-hierarchy\n",
    "https://github.com/noameshed/novelty-detection/blob/master/imagenet_categories.csv\n",
    "\n",
    "https://www.ocr2edit.com/fr/result#j=e31e585f-d3a1-4cc4-b897-00dc78809e9a\n",
    "https://wtools.io/convert-list-to-json-array"
   ]
  },
  {
   "cell_type": "code",
   "execution_count": 5,
   "metadata": {},
   "outputs": [],
   "source": [
    "dir_path = r'C:\\Users\\Nicol\\Documents\\EPFL\\BA7\\Project\\Code\\voc\\json\\\\'"
   ]
  },
  {
   "cell_type": "code",
   "execution_count": 6,
   "metadata": {},
   "outputs": [],
   "source": [
    "classes = json.open_json(dir_path + 'imagenet-classes')"
   ]
  },
  {
   "cell_type": "code",
   "execution_count": 137,
   "metadata": {},
   "outputs": [],
   "source": [
    "def find_full(lst):\n",
    "    new = [c for c in classes if any([c.startswith(e) for e in lst])]\n",
    "    not_in = [e for e in lst if not any([c.startswith(e) for c in classes])]\n",
    "    if not_in:\n",
    "        print(not_in)\n",
    "    else:\n",
    "        print([e for e in lst if len([c for c in classes if c.startswith(e)]) > 1])\n",
    "        print(len(lst))\n",
    "        print(len(new))\n",
    "        print(\"Ok\")\n",
    "    return new"
   ]
  },
  {
   "cell_type": "code",
   "execution_count": 130,
   "metadata": {},
   "outputs": [
    {
     "name": "stdout",
     "output_type": "stream",
     "text": [
      "2\n",
      "2\n",
      "Ok\n"
     ]
    }
   ],
   "source": [
    "aeroplane = find_full(['warplane, military plane', 'airliner'])"
   ]
  },
  {
   "cell_type": "code",
   "execution_count": 129,
   "metadata": {},
   "outputs": [
    {
     "name": "stdout",
     "output_type": "stream",
     "text": [
      "2\n",
      "2\n",
      "Ok\n"
     ]
    }
   ],
   "source": [
    "bicycle = find_full(['bicycle-built-for-two', 'mountain bike'])"
   ]
  },
  {
   "cell_type": "code",
   "execution_count": 139,
   "metadata": {},
   "outputs": [],
   "source": [
    "birdI = [\"red-breasted merganser\",\"drake\",\"goose\",\"ruddy turnstone\",\"red-backed sandpiper\",\"redshank\",\"dowitcher\",\"oystercatcher\",\"American egret\",\"bittern\",\"little blue heron\",\"American coot\",\"black stork\",\"white stork\",\"bustard\",\"flamingo\",\"limpkin\",\"spoonbill\"]\n",
    "birdII = [\"king penguin\",\"albatross\",\"pelican\",\"European gallinule\",\"black swan\",\"peacock\",\"partridge\",\"quail\",\"black grouse\",\"prairie chicken\",\"ptarmigan\",\"ruffed grouse\",\"indigo bunting\",\"brambling\",\"goldfinch\",\"house finch\",\"junco\",\"bulbul\",\"robin\",\"jay\",\"magpie\",\"chickadee\",\"water ouzel\",\"bald eagle\",\"kite\"]\n",
    "birdIII = [\"great grey owl\",\"vulture\",\"coucal\",\"sulphur-crested cockatoo\",\"lorikeet\",\"African grey\",\"macaw\",\"hummingbird\",\"bee eater\",\"hornbill\",\"jacamar\",\"toucan\",\"ostrich\"]"
   ]
  },
  {
   "cell_type": "code",
   "execution_count": 140,
   "metadata": {},
   "outputs": [
    {
     "name": "stdout",
     "output_type": "stream",
     "text": [
      "[]\n",
      "56\n",
      "56\n",
      "Ok\n"
     ]
    }
   ],
   "source": [
    "bird = find_full(birdI + birdII + birdIII) + ['crane', 'cock', 'hen']"
   ]
  },
  {
   "cell_type": "code",
   "execution_count": 127,
   "metadata": {},
   "outputs": [
    {
     "name": "stdout",
     "output_type": "stream",
     "text": [
      "15\n",
      "15\n",
      "Ok\n"
     ]
    }
   ],
   "source": [
    "boat = find_full([\"submarine\",\"aircraft carrier\",\"container ship\",\"liner\",\"pirate\",\"wreck\",\"speedboat\",\"lifeboat\",\"canoe\",\"yawl\",\"fireboat\",\"gondola\",\"catamaran\",\"trimaran\",\"schooner\"])"
   ]
  },
  {
   "cell_type": "code",
   "execution_count": 126,
   "metadata": {},
   "outputs": [
    {
     "name": "stdout",
     "output_type": "stream",
     "text": [
      "7\n",
      "7\n",
      "Ok\n"
     ]
    }
   ],
   "source": [
    "bottle = find_full([\"water jug\",\"whiskey jug\",\"beer bottle\",\"pill bottle\",\"pop bottle\",\"water bottle\",\"wine bottle\"])"
   ]
  },
  {
   "cell_type": "code",
   "execution_count": 125,
   "metadata": {},
   "outputs": [
    {
     "name": "stdout",
     "output_type": "stream",
     "text": [
      "3\n",
      "3\n",
      "Ok\n"
     ]
    }
   ],
   "source": [
    "bus = find_full([\"minibus\", \"school bus\", \"trolleybus\"])"
   ]
  },
  {
   "cell_type": "code",
   "execution_count": 141,
   "metadata": {},
   "outputs": [
    {
     "name": "stdout",
     "output_type": "stream",
     "text": [
      "[]\n",
      "9\n",
      "9\n",
      "Ok\n"
     ]
    }
   ],
   "source": [
    "car = find_full([\"racer\",\"Model T\",\"minivan\",\"limousine\",\"jeep\",\"convertible\",\"beach wagon\",\"ambulance\",\"sports car\"]) + ['cab']"
   ]
  },
  {
   "cell_type": "code",
   "execution_count": 124,
   "metadata": {},
   "outputs": [
    {
     "name": "stdout",
     "output_type": "stream",
     "text": [
      "5\n",
      "5\n",
      "Ok\n"
     ]
    }
   ],
   "source": [
    "cat = find_full([\"tiger cat\",\"tabby\",\"Siamese cat\",\"Persian cat\",\"Egyptian cat\"])"
   ]
  },
  {
   "cell_type": "code",
   "execution_count": 142,
   "metadata": {},
   "outputs": [
    {
     "name": "stdout",
     "output_type": "stream",
     "text": [
      "[]\n",
      "4\n",
      "4\n",
      "Ok\n"
     ]
    }
   ],
   "source": [
    "chair = find_full([\"throne\",\"rocking chair\",\"folding chair\",\"barber chair\"])"
   ]
  },
  {
   "cell_type": "code",
   "execution_count": 143,
   "metadata": {},
   "outputs": [
    {
     "name": "stdout",
     "output_type": "stream",
     "text": [
      "[]\n",
      "2\n",
      "2\n",
      "Ok\n"
     ]
    }
   ],
   "source": [
    "cow = find_full([\"water buffalo\", \"bison\"])"
   ]
  },
  {
   "cell_type": "code",
   "execution_count": 144,
   "metadata": {},
   "outputs": [
    {
     "name": "stdout",
     "output_type": "stream",
     "text": [
      "[]\n",
      "1\n",
      "1\n",
      "Ok\n"
     ]
    }
   ],
   "source": [
    "diningtable = find_full([\"dining table\"])"
   ]
  },
  {
   "cell_type": "code",
   "execution_count": 153,
   "metadata": {},
   "outputs": [],
   "source": [
    "dogI = ['English springer', 'Welsh springer spaniel', 'Irish water spaniel', 'Brittany spaniel', 'clumber', 'cocker spaniel', 'Sussex spaniel', 'German short-haired poin', 'vizsla', 'Chesapeake Bay retriever', 'curly-coated retriever', 'flat-coated retriever', 'golden retriever', 'Labrador retriever', 'English setter', 'Gordon setter', 'Irish setter', 'Sealyham terrier', 'Lakeland terrier', 'American Staffordshire ter', 'Staffordshire bullterrier', 'wire-haired fox terrier', 'giant schnauzer', 'miniature schnauzer', 'standard schnauzer', 'Airedale', 'Australian terrier', 'Bedlington terrier', 'Border terrier', 'Boston bull', 'cairn', 'Dandie Dinmont', 'Irish terrier', 'Kerry blue terrier', 'Lhasa', 'Norfolk terrier', 'Norwich terrier', 'Scotch terrier', 'silky terrier', 'soft-coated wheaten terrie', 'Tibetan terrier', 'West Highland white terrie', 'Yorkshire terrier']\n",
    "dogII = ['black-and-tan coonhound', 'English foxhound', 'Walker hound', 'Italian greyhound', 'whippet', 'borzoi', 'Irish wolfhound', 'Afghan hound', 'basset', 'beagle', 'bloodhound', 'bluetick', 'Ibizan hound', 'Norwegian elkhound', 'otterhound', 'redbone', 'Saluki', 'Scottish deerhound', 'Weimaraner', 'Rhodesian ridgeback', 'Blenheim spaniel', 'papillon', 'Chihuahua', 'Japanese spaniel', 'Maltese dog', 'Pekinese', 'Shih-Tzu', 'toy terrier', 'groenendael', 'malinois', 'Border collie', 'Bouvier des Flandres', 'briard', 'collie', 'German shepherd', 'kelpie', 'komondor', 'Old English sheepdog', 'Rottweiler', 'Shetland sheepdog', 'affenpinscher', 'Doberman', 'miniature pinscher', 'kuvasz', 'schipperke', 'French bulldog']\n",
    "dogIII = ['Tibetan mastiff', 'Appenzeller', 'Bernese mountain dog', 'EntleBucher', 'Greater Swiss Mountain d', 'malamute', 'Siberian husky', 'boxer', 'bull mastiff', 'Eskimo dog', 'Great Dane', 'Saint Bernard', 'Cardigan', 'Pembroke', 'Brabancon griffon', 'miniature poodle', 'standard poodle', 'toy poodle', 'chow', 'keeshond', 'Pomeranian', 'Samoyed', 'basenji', 'dalmatian', 'Great Pyrenees', 'Leonberg', 'Mexican hairless', 'Newfoundland', 'pug']"
   ]
  },
  {
   "cell_type": "code",
   "execution_count": 155,
   "metadata": {},
   "outputs": [
    {
     "name": "stdout",
     "output_type": "stream",
     "text": [
      "[]\n",
      "118\n",
      "118\n",
      "Ok\n"
     ]
    }
   ],
   "source": [
    "dog = find_full(dogI + dogII + dogIII)"
   ]
  },
  {
   "cell_type": "code",
   "execution_count": 156,
   "metadata": {},
   "outputs": [
    {
     "name": "stdout",
     "output_type": "stream",
     "text": [
      "[]\n",
      "2\n",
      "2\n",
      "Ok\n"
     ]
    }
   ],
   "source": [
    "horse = find_full([\"sorrel\", \"zebra\"])"
   ]
  },
  {
   "cell_type": "code",
   "execution_count": 157,
   "metadata": {},
   "outputs": [
    {
     "name": "stdout",
     "output_type": "stream",
     "text": [
      "[]\n",
      "2\n",
      "2\n",
      "Ok\n"
     ]
    }
   ],
   "source": [
    "motorbike = find_full([\"moped\", \"motor scooter\"])"
   ]
  },
  {
   "cell_type": "code",
   "execution_count": 158,
   "metadata": {},
   "outputs": [
    {
     "name": "stdout",
     "output_type": "stream",
     "text": [
      "[]\n",
      "3\n",
      "3\n",
      "Ok\n"
     ]
    }
   ],
   "source": [
    "person = find_full([\"groom\", \"ballplayer\", \"scuba diver\"])"
   ]
  },
  {
   "cell_type": "code",
   "execution_count": 165,
   "metadata": {},
   "outputs": [
    {
     "name": "stdout",
     "output_type": "stream",
     "text": [
      "[]\n",
      "1\n",
      "1\n",
      "Ok\n"
     ]
    }
   ],
   "source": [
    "pottedplant = find_full([\"vase\"])"
   ]
  },
  {
   "cell_type": "code",
   "execution_count": 160,
   "metadata": {},
   "outputs": [
    {
     "name": "stdout",
     "output_type": "stream",
     "text": [
      "[]\n",
      "2\n",
      "2\n",
      "Ok\n"
     ]
    }
   ],
   "source": [
    "sheep = find_full([\"bighorn\", \"ram\"])"
   ]
  },
  {
   "cell_type": "code",
   "execution_count": 161,
   "metadata": {},
   "outputs": [
    {
     "name": "stdout",
     "output_type": "stream",
     "text": [
      "[]\n",
      "1\n",
      "1\n",
      "Ok\n"
     ]
    }
   ],
   "source": [
    "sofa = find_full([\"studio couch\"])"
   ]
  },
  {
   "cell_type": "code",
   "execution_count": 162,
   "metadata": {},
   "outputs": [
    {
     "name": "stdout",
     "output_type": "stream",
     "text": [
      "[]\n",
      "4\n",
      "4\n",
      "Ok\n"
     ]
    }
   ],
   "source": [
    "train = find_full([\"steam locomotive\",\"electric locomotive\",\"freight car\",\"bullet train\"])"
   ]
  },
  {
   "cell_type": "code",
   "execution_count": 163,
   "metadata": {},
   "outputs": [
    {
     "name": "stdout",
     "output_type": "stream",
     "text": [
      "[]\n",
      "1\n",
      "1\n",
      "Ok\n"
     ]
    }
   ],
   "source": [
    "tvmonitor = find_full([\"television\"])"
   ]
  },
  {
   "cell_type": "code",
   "execution_count": 166,
   "metadata": {},
   "outputs": [],
   "source": [
    "super_classes = {\n",
    "    \"aeroplane\" : aeroplane,\n",
    "    \"bicycle\" : bicycle,\n",
    "    \"bird\" : bird,\n",
    "    \"boat\" : boat,\n",
    "    \"bottle\" : bottle,\n",
    "    \"bus\" : bus,\n",
    "    \"car\" : car,\n",
    "    \"cat\" : cat,\n",
    "    \"chair\" : chair,\n",
    "    \"cow\" : cow,\n",
    "    \"diningtable\" : diningtable,\n",
    "    \"dog\" : dog,\n",
    "    \"horse\" : horse,\n",
    "    \"motorbike\" : motorbike,\n",
    "    \"person\" : person,\n",
    "    \"pottedplant\" : pottedplant,\n",
    "    \"sheep\" : sheep,\n",
    "    \"sofa\" : sofa,\n",
    "    \"train\" : train,\n",
    "    \"tvmonitor\" : tvmonitor\n",
    "}"
   ]
  },
  {
   "cell_type": "code",
   "execution_count": 169,
   "metadata": {},
   "outputs": [],
   "source": [
    "json.save_json(dir_path + 'voc-to-imagenet-classes', super_classes)"
   ]
  }
 ],
 "metadata": {
  "kernelspec": {
   "display_name": "Python 3",
   "language": "python",
   "name": "python3"
  },
  "language_info": {
   "codemirror_mode": {
    "name": "ipython",
    "version": 3
   },
   "file_extension": ".py",
   "mimetype": "text/x-python",
   "name": "python",
   "nbconvert_exporter": "python",
   "pygments_lexer": "ipython3",
   "version": "3.7.3"
  }
 },
 "nbformat": 4,
 "nbformat_minor": 4
}
