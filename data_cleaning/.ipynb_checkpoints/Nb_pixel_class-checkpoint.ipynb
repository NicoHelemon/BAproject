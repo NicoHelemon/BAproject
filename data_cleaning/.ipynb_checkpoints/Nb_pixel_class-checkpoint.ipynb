{
 "cells": [
  {
   "cell_type": "code",
   "execution_count": 51,
   "metadata": {},
   "outputs": [],
   "source": [
    "from torchvision import transforms\n",
    "import torch\n",
    "import numpy as np\n",
    "import pandas as pd\n",
    "from pathlib import Path\n",
    "\n",
    "import sys\n",
    "sys.path.append('../')\n",
    "import utils.image as im\n",
    "import utils.json as json\n",
    "import utils.path as path\n",
    "\n",
    "from utils.VOCSegmentation import VOCSegmentation\n",
    "\n",
    "root_path   = path.goback_from_current_dir(1)\n",
    "json_path   = root_path + 'json\\\\'"
   ]
  },
  {
   "cell_type": "code",
   "execution_count": 68,
   "metadata": {},
   "outputs": [],
   "source": [
    "data = VOCSegmentation(root = root_path,\n",
    "                           year = '2012',\n",
    "                           image_set = 'trainval',\n",
    "                           download = False,\n",
    "                           transform = transforms.ToTensor(),\n",
    "                           target_transform = transforms.ToTensor(),\n",
    "                           transforms = None,\n",
    "                           target = 'Object')\n",
    "data = iter(torch.utils.data.DataLoader(data,\n",
    "                                        batch_size = 1,\n",
    "                                        shuffle = False,\n",
    "                                        num_workers = 0))"
   ]
  },
  {
   "cell_type": "code",
   "execution_count": 69,
   "metadata": {},
   "outputs": [],
   "source": [
    "annotations = json.open_json(json_path + \"voc-object-annotations-clean\")\n",
    "N = len(annotations)\n",
    "annotations = iter(annotations.items())\n",
    "\n",
    "classes = json.open_json(json_path + \"voc-classes\")"
   ]
  },
  {
   "cell_type": "code",
   "execution_count": 70,
   "metadata": {},
   "outputs": [],
   "source": [
    "pixel = {c : 0 for c in classes}"
   ]
  },
  {
   "cell_type": "code",
   "execution_count": 71,
   "metadata": {},
   "outputs": [
    {
     "name": "stdout",
     "output_type": "stream",
     "text": [
      "(281, 500)\n",
      "140500\n",
      "135145\n",
      "aeroplane\n",
      "pixel: {'aeroplane': 135145, 'bicycle': 0, 'bird': 0, 'boat': 0, 'bottle': 0, 'bus': 0, 'car': 0, 'cat': 0, 'chair': 0, 'cow': 0, 'diningtable': 0, 'dog': 0, 'horse': 0, 'motorbike': 0, 'person': 0, 'pottedplant': 0, 'sheep': 0, 'sofa': 0, 'train': 0, 'tvmonitor': 0}\n",
      "aeroplane\n",
      "pixel: {'aeroplane': 270290, 'bicycle': 0, 'bird': 0, 'boat': 0, 'bottle': 0, 'bus': 0, 'car': 0, 'cat': 0, 'chair': 0, 'cow': 0, 'diningtable': 0, 'dog': 0, 'horse': 0, 'motorbike': 0, 'person': 0, 'pottedplant': 0, 'sheep': 0, 'sofa': 0, 'train': 0, 'tvmonitor': 0}\n",
      "person\n",
      "pixel: {'aeroplane': 270290, 'bicycle': 0, 'bird': 0, 'boat': 0, 'bottle': 0, 'bus': 0, 'car': 0, 'cat': 0, 'chair': 0, 'cow': 0, 'diningtable': 0, 'dog': 0, 'horse': 0, 'motorbike': 0, 'person': 135145, 'pottedplant': 0, 'sheep': 0, 'sofa': 0, 'train': 0, 'tvmonitor': 0}\n",
      "person\n",
      "pixel: {'aeroplane': 270290, 'bicycle': 0, 'bird': 0, 'boat': 0, 'bottle': 0, 'bus': 0, 'car': 0, 'cat': 0, 'chair': 0, 'cow': 0, 'diningtable': 0, 'dog': 0, 'horse': 0, 'motorbike': 0, 'person': 270290, 'pottedplant': 0, 'sheep': 0, 'sofa': 0, 'train': 0, 'tvmonitor': 0}\n",
      "[270290, 0, 0, 0, 0, 0, 0, 0, 0, 0, 0, 0, 0, 0, 270290, 0, 0, 0, 0, 0]\n",
      "(366, 500)\n",
      "183000\n",
      "174805\n",
      "aeroplane\n",
      "pixel: {'aeroplane': 445095, 'bicycle': 0, 'bird': 0, 'boat': 0, 'bottle': 0, 'bus': 0, 'car': 0, 'cat': 0, 'chair': 0, 'cow': 0, 'diningtable': 0, 'dog': 0, 'horse': 0, 'motorbike': 0, 'person': 270290, 'pottedplant': 0, 'sheep': 0, 'sofa': 0, 'train': 0, 'tvmonitor': 0}\n",
      "aeroplane\n",
      "pixel: {'aeroplane': 619900, 'bicycle': 0, 'bird': 0, 'boat': 0, 'bottle': 0, 'bus': 0, 'car': 0, 'cat': 0, 'chair': 0, 'cow': 0, 'diningtable': 0, 'dog': 0, 'horse': 0, 'motorbike': 0, 'person': 270290, 'pottedplant': 0, 'sheep': 0, 'sofa': 0, 'train': 0, 'tvmonitor': 0}\n",
      "aeroplane\n",
      "pixel: {'aeroplane': 794705, 'bicycle': 0, 'bird': 0, 'boat': 0, 'bottle': 0, 'bus': 0, 'car': 0, 'cat': 0, 'chair': 0, 'cow': 0, 'diningtable': 0, 'dog': 0, 'horse': 0, 'motorbike': 0, 'person': 270290, 'pottedplant': 0, 'sheep': 0, 'sofa': 0, 'train': 0, 'tvmonitor': 0}\n",
      "[794705, 0, 0, 0, 0, 0, 0, 0, 0, 0, 0, 0, 0, 0, 270290, 0, 0, 0, 0, 0]\n",
      "(375, 500)\n",
      "187500\n",
      "184570\n",
      "tvmonitor\n",
      "pixel: {'aeroplane': 794705, 'bicycle': 0, 'bird': 0, 'boat': 0, 'bottle': 0, 'bus': 0, 'car': 0, 'cat': 0, 'chair': 0, 'cow': 0, 'diningtable': 0, 'dog': 0, 'horse': 0, 'motorbike': 0, 'person': 270290, 'pottedplant': 0, 'sheep': 0, 'sofa': 0, 'train': 0, 'tvmonitor': 184570}\n",
      "[794705, 0, 0, 0, 0, 0, 0, 0, 0, 0, 0, 0, 0, 0, 270290, 0, 0, 0, 0, 184570]\n",
      "(335, 500)\n",
      "167500\n",
      "157504\n",
      "train\n",
      "pixel: {'aeroplane': 794705, 'bicycle': 0, 'bird': 0, 'boat': 0, 'bottle': 0, 'bus': 0, 'car': 0, 'cat': 0, 'chair': 0, 'cow': 0, 'diningtable': 0, 'dog': 0, 'horse': 0, 'motorbike': 0, 'person': 270290, 'pottedplant': 0, 'sheep': 0, 'sofa': 0, 'train': 157504, 'tvmonitor': 184570}\n",
      "train\n",
      "pixel: {'aeroplane': 794705, 'bicycle': 0, 'bird': 0, 'boat': 0, 'bottle': 0, 'bus': 0, 'car': 0, 'cat': 0, 'chair': 0, 'cow': 0, 'diningtable': 0, 'dog': 0, 'horse': 0, 'motorbike': 0, 'person': 270290, 'pottedplant': 0, 'sheep': 0, 'sofa': 0, 'train': 315008, 'tvmonitor': 184570}\n",
      "[794705, 0, 0, 0, 0, 0, 0, 0, 0, 0, 0, 0, 0, 0, 270290, 0, 0, 0, 315008, 184570]\n",
      "(333, 500)\n",
      "166500\n",
      "161317\n",
      "boat\n",
      "pixel: {'aeroplane': 794705, 'bicycle': 0, 'bird': 0, 'boat': 161317, 'bottle': 0, 'bus': 0, 'car': 0, 'cat': 0, 'chair': 0, 'cow': 0, 'diningtable': 0, 'dog': 0, 'horse': 0, 'motorbike': 0, 'person': 270290, 'pottedplant': 0, 'sheep': 0, 'sofa': 0, 'train': 315008, 'tvmonitor': 184570}\n",
      "boat\n",
      "pixel: {'aeroplane': 794705, 'bicycle': 0, 'bird': 0, 'boat': 322634, 'bottle': 0, 'bus': 0, 'car': 0, 'cat': 0, 'chair': 0, 'cow': 0, 'diningtable': 0, 'dog': 0, 'horse': 0, 'motorbike': 0, 'person': 270290, 'pottedplant': 0, 'sheep': 0, 'sofa': 0, 'train': 315008, 'tvmonitor': 184570}\n",
      "[794705, 0, 0, 322634, 0, 0, 0, 0, 0, 0, 0, 0, 0, 0, 270290, 0, 0, 0, 315008, 184570]\n",
      "(375, 500)\n",
      "187500\n",
      "178786\n",
      "dog\n",
      "pixel: {'aeroplane': 794705, 'bicycle': 0, 'bird': 0, 'boat': 322634, 'bottle': 0, 'bus': 0, 'car': 0, 'cat': 0, 'chair': 0, 'cow': 0, 'diningtable': 0, 'dog': 178786, 'horse': 0, 'motorbike': 0, 'person': 270290, 'pottedplant': 0, 'sheep': 0, 'sofa': 0, 'train': 315008, 'tvmonitor': 184570}\n",
      "chair\n",
      "pixel: {'aeroplane': 794705, 'bicycle': 0, 'bird': 0, 'boat': 322634, 'bottle': 0, 'bus': 0, 'car': 0, 'cat': 0, 'chair': 178786, 'cow': 0, 'diningtable': 0, 'dog': 178786, 'horse': 0, 'motorbike': 0, 'person': 270290, 'pottedplant': 0, 'sheep': 0, 'sofa': 0, 'train': 315008, 'tvmonitor': 184570}\n",
      "[794705, 0, 0, 322634, 0, 0, 0, 0, 178786, 0, 0, 178786, 0, 0, 270290, 0, 0, 0, 315008, 184570]\n",
      "(375, 500)\n",
      "187500\n",
      "182946\n",
      "bird\n",
      "pixel: {'aeroplane': 794705, 'bicycle': 0, 'bird': 182946, 'boat': 322634, 'bottle': 0, 'bus': 0, 'car': 0, 'cat': 0, 'chair': 178786, 'cow': 0, 'diningtable': 0, 'dog': 178786, 'horse': 0, 'motorbike': 0, 'person': 270290, 'pottedplant': 0, 'sheep': 0, 'sofa': 0, 'train': 315008, 'tvmonitor': 184570}\n",
      "[794705, 0, 182946, 322634, 0, 0, 0, 0, 178786, 0, 0, 178786, 0, 0, 270290, 0, 0, 0, 315008, 184570]\n",
      "(375, 500)\n",
      "187500\n",
      "179833\n",
      "tvmonitor\n",
      "pixel: {'aeroplane': 794705, 'bicycle': 0, 'bird': 182946, 'boat': 322634, 'bottle': 0, 'bus': 0, 'car': 0, 'cat': 0, 'chair': 178786, 'cow': 0, 'diningtable': 0, 'dog': 178786, 'horse': 0, 'motorbike': 0, 'person': 270290, 'pottedplant': 0, 'sheep': 0, 'sofa': 0, 'train': 315008, 'tvmonitor': 364403}\n",
      "tvmonitor\n",
      "pixel: {'aeroplane': 794705, 'bicycle': 0, 'bird': 182946, 'boat': 322634, 'bottle': 0, 'bus': 0, 'car': 0, 'cat': 0, 'chair': 178786, 'cow': 0, 'diningtable': 0, 'dog': 178786, 'horse': 0, 'motorbike': 0, 'person': 270290, 'pottedplant': 0, 'sheep': 0, 'sofa': 0, 'train': 315008, 'tvmonitor': 544236}\n",
      "[794705, 0, 182946, 322634, 0, 0, 0, 0, 178786, 0, 0, 178786, 0, 0, 270290, 0, 0, 0, 315008, 544236]\n",
      "(375, 500)\n",
      "187500\n",
      "182901\n",
      "train\n",
      "pixel: {'aeroplane': 794705, 'bicycle': 0, 'bird': 182946, 'boat': 322634, 'bottle': 0, 'bus': 0, 'car': 0, 'cat': 0, 'chair': 178786, 'cow': 0, 'diningtable': 0, 'dog': 178786, 'horse': 0, 'motorbike': 0, 'person': 270290, 'pottedplant': 0, 'sheep': 0, 'sofa': 0, 'train': 497909, 'tvmonitor': 544236}\n",
      "[794705, 0, 182946, 322634, 0, 0, 0, 0, 178786, 0, 0, 178786, 0, 0, 270290, 0, 0, 0, 497909, 544236]\n",
      "(500, 334)\n",
      "167000\n",
      "149715\n",
      "bicycle\n",
      "pixel: {'aeroplane': 794705, 'bicycle': 149715, 'bird': 182946, 'boat': 322634, 'bottle': 0, 'bus': 0, 'car': 0, 'cat': 0, 'chair': 178786, 'cow': 0, 'diningtable': 0, 'dog': 178786, 'horse': 0, 'motorbike': 0, 'person': 270290, 'pottedplant': 0, 'sheep': 0, 'sofa': 0, 'train': 497909, 'tvmonitor': 544236}\n",
      "bicycle\n",
      "pixel: {'aeroplane': 794705, 'bicycle': 299430, 'bird': 182946, 'boat': 322634, 'bottle': 0, 'bus': 0, 'car': 0, 'cat': 0, 'chair': 178786, 'cow': 0, 'diningtable': 0, 'dog': 178786, 'horse': 0, 'motorbike': 0, 'person': 270290, 'pottedplant': 0, 'sheep': 0, 'sofa': 0, 'train': 497909, 'tvmonitor': 544236}\n",
      "bicycle\n",
      "pixel: {'aeroplane': 794705, 'bicycle': 449145, 'bird': 182946, 'boat': 322634, 'bottle': 0, 'bus': 0, 'car': 0, 'cat': 0, 'chair': 178786, 'cow': 0, 'diningtable': 0, 'dog': 178786, 'horse': 0, 'motorbike': 0, 'person': 270290, 'pottedplant': 0, 'sheep': 0, 'sofa': 0, 'train': 497909, 'tvmonitor': 544236}\n",
      "person\n",
      "pixel: {'aeroplane': 794705, 'bicycle': 449145, 'bird': 182946, 'boat': 322634, 'bottle': 0, 'bus': 0, 'car': 0, 'cat': 0, 'chair': 178786, 'cow': 0, 'diningtable': 0, 'dog': 178786, 'horse': 0, 'motorbike': 0, 'person': 420005, 'pottedplant': 0, 'sheep': 0, 'sofa': 0, 'train': 497909, 'tvmonitor': 544236}\n",
      "person\n",
      "pixel: {'aeroplane': 794705, 'bicycle': 449145, 'bird': 182946, 'boat': 322634, 'bottle': 0, 'bus': 0, 'car': 0, 'cat': 0, 'chair': 178786, 'cow': 0, 'diningtable': 0, 'dog': 178786, 'horse': 0, 'motorbike': 0, 'person': 569720, 'pottedplant': 0, 'sheep': 0, 'sofa': 0, 'train': 497909, 'tvmonitor': 544236}\n",
      "person\n",
      "pixel: {'aeroplane': 794705, 'bicycle': 449145, 'bird': 182946, 'boat': 322634, 'bottle': 0, 'bus': 0, 'car': 0, 'cat': 0, 'chair': 178786, 'cow': 0, 'diningtable': 0, 'dog': 178786, 'horse': 0, 'motorbike': 0, 'person': 719435, 'pottedplant': 0, 'sheep': 0, 'sofa': 0, 'train': 497909, 'tvmonitor': 544236}\n",
      "[794705, 449145, 182946, 322634, 0, 0, 0, 0, 178786, 0, 0, 178786, 0, 0, 719435, 0, 0, 0, 497909, 544236]\n",
      "(375, 500)\n",
      "187500\n",
      "180195\n",
      "bottle\n",
      "pixel: {'aeroplane': 794705, 'bicycle': 449145, 'bird': 182946, 'boat': 322634, 'bottle': 180195, 'bus': 0, 'car': 0, 'cat': 0, 'chair': 178786, 'cow': 0, 'diningtable': 0, 'dog': 178786, 'horse': 0, 'motorbike': 0, 'person': 719435, 'pottedplant': 0, 'sheep': 0, 'sofa': 0, 'train': 497909, 'tvmonitor': 544236}\n",
      "bottle\n",
      "pixel: {'aeroplane': 794705, 'bicycle': 449145, 'bird': 182946, 'boat': 322634, 'bottle': 360390, 'bus': 0, 'car': 0, 'cat': 0, 'chair': 178786, 'cow': 0, 'diningtable': 0, 'dog': 178786, 'horse': 0, 'motorbike': 0, 'person': 719435, 'pottedplant': 0, 'sheep': 0, 'sofa': 0, 'train': 497909, 'tvmonitor': 544236}\n",
      "bottle\n",
      "pixel: {'aeroplane': 794705, 'bicycle': 449145, 'bird': 182946, 'boat': 322634, 'bottle': 540585, 'bus': 0, 'car': 0, 'cat': 0, 'chair': 178786, 'cow': 0, 'diningtable': 0, 'dog': 178786, 'horse': 0, 'motorbike': 0, 'person': 719435, 'pottedplant': 0, 'sheep': 0, 'sofa': 0, 'train': 497909, 'tvmonitor': 544236}\n",
      "bottle\n",
      "pixel: {'aeroplane': 794705, 'bicycle': 449145, 'bird': 182946, 'boat': 322634, 'bottle': 720780, 'bus': 0, 'car': 0, 'cat': 0, 'chair': 178786, 'cow': 0, 'diningtable': 0, 'dog': 178786, 'horse': 0, 'motorbike': 0, 'person': 719435, 'pottedplant': 0, 'sheep': 0, 'sofa': 0, 'train': 497909, 'tvmonitor': 544236}\n",
      "person\n",
      "pixel: {'aeroplane': 794705, 'bicycle': 449145, 'bird': 182946, 'boat': 322634, 'bottle': 720780, 'bus': 0, 'car': 0, 'cat': 0, 'chair': 178786, 'cow': 0, 'diningtable': 0, 'dog': 178786, 'horse': 0, 'motorbike': 0, 'person': 899630, 'pottedplant': 0, 'sheep': 0, 'sofa': 0, 'train': 497909, 'tvmonitor': 544236}\n",
      "person\n",
      "pixel: {'aeroplane': 794705, 'bicycle': 449145, 'bird': 182946, 'boat': 322634, 'bottle': 720780, 'bus': 0, 'car': 0, 'cat': 0, 'chair': 178786, 'cow': 0, 'diningtable': 0, 'dog': 178786, 'horse': 0, 'motorbike': 0, 'person': 1079825, 'pottedplant': 0, 'sheep': 0, 'sofa': 0, 'train': 497909, 'tvmonitor': 544236}\n",
      "[794705, 449145, 182946, 322634, 720780, 0, 0, 0, 178786, 0, 0, 178786, 0, 0, 1079825, 0, 0, 0, 497909, 544236]\n",
      "(332, 500)\n",
      "166000\n",
      "152958\n",
      "sheep\n",
      "pixel: {'aeroplane': 794705, 'bicycle': 449145, 'bird': 182946, 'boat': 322634, 'bottle': 720780, 'bus': 0, 'car': 0, 'cat': 0, 'chair': 178786, 'cow': 0, 'diningtable': 0, 'dog': 178786, 'horse': 0, 'motorbike': 0, 'person': 1079825, 'pottedplant': 0, 'sheep': 152958, 'sofa': 0, 'train': 497909, 'tvmonitor': 544236}\n",
      "[794705, 449145, 182946, 322634, 720780, 0, 0, 0, 178786, 0, 0, 178786, 0, 0, 1079825, 0, 152958, 0, 497909, 544236]\n",
      "(375, 500)\n",
      "187500\n",
      "184449\n",
      "tvmonitor\n",
      "pixel: {'aeroplane': 794705, 'bicycle': 449145, 'bird': 182946, 'boat': 322634, 'bottle': 720780, 'bus': 0, 'car': 0, 'cat': 0, 'chair': 178786, 'cow': 0, 'diningtable': 0, 'dog': 178786, 'horse': 0, 'motorbike': 0, 'person': 1079825, 'pottedplant': 0, 'sheep': 152958, 'sofa': 0, 'train': 497909, 'tvmonitor': 728685}\n",
      "[794705, 449145, 182946, 322634, 720780, 0, 0, 0, 178786, 0, 0, 178786, 0, 0, 1079825, 0, 152958, 0, 497909, 728685]\n",
      "(375, 500)\n",
      "187500\n",
      "182835\n",
      "boat\n",
      "pixel: {'aeroplane': 794705, 'bicycle': 449145, 'bird': 182946, 'boat': 505469, 'bottle': 720780, 'bus': 0, 'car': 0, 'cat': 0, 'chair': 178786, 'cow': 0, 'diningtable': 0, 'dog': 178786, 'horse': 0, 'motorbike': 0, 'person': 1079825, 'pottedplant': 0, 'sheep': 152958, 'sofa': 0, 'train': 497909, 'tvmonitor': 728685}\n",
      "boat\n",
      "pixel: {'aeroplane': 794705, 'bicycle': 449145, 'bird': 182946, 'boat': 688304, 'bottle': 720780, 'bus': 0, 'car': 0, 'cat': 0, 'chair': 178786, 'cow': 0, 'diningtable': 0, 'dog': 178786, 'horse': 0, 'motorbike': 0, 'person': 1079825, 'pottedplant': 0, 'sheep': 152958, 'sofa': 0, 'train': 497909, 'tvmonitor': 728685}\n",
      "boat\n",
      "pixel: {'aeroplane': 794705, 'bicycle': 449145, 'bird': 182946, 'boat': 871139, 'bottle': 720780, 'bus': 0, 'car': 0, 'cat': 0, 'chair': 178786, 'cow': 0, 'diningtable': 0, 'dog': 178786, 'horse': 0, 'motorbike': 0, 'person': 1079825, 'pottedplant': 0, 'sheep': 152958, 'sofa': 0, 'train': 497909, 'tvmonitor': 728685}\n",
      "[794705, 449145, 182946, 871139, 720780, 0, 0, 0, 178786, 0, 0, 178786, 0, 0, 1079825, 0, 152958, 0, 497909, 728685]\n",
      "(333, 500)\n",
      "166500\n",
      "165052\n",
      "aeroplane\n",
      "pixel: {'aeroplane': 959757, 'bicycle': 449145, 'bird': 182946, 'boat': 871139, 'bottle': 720780, 'bus': 0, 'car': 0, 'cat': 0, 'chair': 178786, 'cow': 0, 'diningtable': 0, 'dog': 178786, 'horse': 0, 'motorbike': 0, 'person': 1079825, 'pottedplant': 0, 'sheep': 152958, 'sofa': 0, 'train': 497909, 'tvmonitor': 728685}\n",
      "[959757, 449145, 182946, 871139, 720780, 0, 0, 0, 178786, 0, 0, 178786, 0, 0, 1079825, 0, 152958, 0, 497909, 728685]\n"
     ]
    },
    {
     "name": "stdout",
     "output_type": "stream",
     "text": [
      "(375, 500)\n",
      "187500\n",
      "182907\n",
      "diningtable\n",
      "pixel: {'aeroplane': 959757, 'bicycle': 449145, 'bird': 182946, 'boat': 871139, 'bottle': 720780, 'bus': 0, 'car': 0, 'cat': 0, 'chair': 178786, 'cow': 0, 'diningtable': 182907, 'dog': 178786, 'horse': 0, 'motorbike': 0, 'person': 1079825, 'pottedplant': 0, 'sheep': 152958, 'sofa': 0, 'train': 497909, 'tvmonitor': 728685}\n",
      "bottle\n",
      "pixel: {'aeroplane': 959757, 'bicycle': 449145, 'bird': 182946, 'boat': 871139, 'bottle': 903687, 'bus': 0, 'car': 0, 'cat': 0, 'chair': 178786, 'cow': 0, 'diningtable': 182907, 'dog': 178786, 'horse': 0, 'motorbike': 0, 'person': 1079825, 'pottedplant': 0, 'sheep': 152958, 'sofa': 0, 'train': 497909, 'tvmonitor': 728685}\n",
      "[959757, 449145, 182946, 871139, 903687, 0, 0, 0, 178786, 0, 182907, 178786, 0, 0, 1079825, 0, 152958, 0, 497909, 728685]\n",
      "(343, 500)\n",
      "171500\n",
      "163404\n",
      "aeroplane\n",
      "pixel: {'aeroplane': 1123161, 'bicycle': 449145, 'bird': 182946, 'boat': 871139, 'bottle': 903687, 'bus': 0, 'car': 0, 'cat': 0, 'chair': 178786, 'cow': 0, 'diningtable': 182907, 'dog': 178786, 'horse': 0, 'motorbike': 0, 'person': 1079825, 'pottedplant': 0, 'sheep': 152958, 'sofa': 0, 'train': 497909, 'tvmonitor': 728685}\n",
      "[1123161, 449145, 182946, 871139, 903687, 0, 0, 0, 178786, 0, 182907, 178786, 0, 0, 1079825, 0, 152958, 0, 497909, 728685]\n",
      "(375, 500)\n",
      "187500\n",
      "181667\n",
      "person\n",
      "pixel: {'aeroplane': 1123161, 'bicycle': 449145, 'bird': 182946, 'boat': 871139, 'bottle': 903687, 'bus': 0, 'car': 0, 'cat': 0, 'chair': 178786, 'cow': 0, 'diningtable': 182907, 'dog': 178786, 'horse': 0, 'motorbike': 0, 'person': 1261492, 'pottedplant': 0, 'sheep': 152958, 'sofa': 0, 'train': 497909, 'tvmonitor': 728685}\n",
      "person\n",
      "pixel: {'aeroplane': 1123161, 'bicycle': 449145, 'bird': 182946, 'boat': 871139, 'bottle': 903687, 'bus': 0, 'car': 0, 'cat': 0, 'chair': 178786, 'cow': 0, 'diningtable': 182907, 'dog': 178786, 'horse': 0, 'motorbike': 0, 'person': 1443159, 'pottedplant': 0, 'sheep': 152958, 'sofa': 0, 'train': 497909, 'tvmonitor': 728685}\n",
      "[1123161, 449145, 182946, 871139, 903687, 0, 0, 0, 178786, 0, 182907, 178786, 0, 0, 1443159, 0, 152958, 0, 497909, 728685]\n",
      "(333, 500)\n",
      "166500\n",
      "157039\n",
      "horse\n",
      "pixel: {'aeroplane': 1123161, 'bicycle': 449145, 'bird': 182946, 'boat': 871139, 'bottle': 903687, 'bus': 0, 'car': 0, 'cat': 0, 'chair': 178786, 'cow': 0, 'diningtable': 182907, 'dog': 178786, 'horse': 157039, 'motorbike': 0, 'person': 1443159, 'pottedplant': 0, 'sheep': 152958, 'sofa': 0, 'train': 497909, 'tvmonitor': 728685}\n",
      "[1123161, 449145, 182946, 871139, 903687, 0, 0, 0, 178786, 0, 182907, 178786, 157039, 0, 1443159, 0, 152958, 0, 497909, 728685]\n",
      "(333, 500)\n",
      "166500\n",
      "162211\n",
      "train\n",
      "pixel: {'aeroplane': 1123161, 'bicycle': 449145, 'bird': 182946, 'boat': 871139, 'bottle': 903687, 'bus': 0, 'car': 0, 'cat': 0, 'chair': 178786, 'cow': 0, 'diningtable': 182907, 'dog': 178786, 'horse': 157039, 'motorbike': 0, 'person': 1443159, 'pottedplant': 0, 'sheep': 152958, 'sofa': 0, 'train': 660120, 'tvmonitor': 728685}\n",
      "[1123161, 449145, 182946, 871139, 903687, 0, 0, 0, 178786, 0, 182907, 178786, 157039, 0, 1443159, 0, 152958, 0, 660120, 728685]\n"
     ]
    }
   ],
   "source": [
    "for i in range(N):    \n",
    "    img, sgm = next(data)\n",
    "    sgm = torch.squeeze(sgm)\n",
    "\n",
    "    sgm      = im.f1_to_f255(sgm.numpy())\n",
    "    undef    = np.where(sgm == 255, 1, 0)\n",
    "    \n",
    "    nb_pixel = sgm.size - np.sum(undef)\n",
    "    \n",
    "    _, annots = next(annotations)\n",
    "\n",
    "    for annot in annots:\n",
    "        c, _, _ = annot\n",
    "        \n",
    "        pixel[c] = pixel[c] + nb_pixel"
   ]
  },
  {
   "cell_type": "code",
   "execution_count": 14,
   "metadata": {},
   "outputs": [
    {
     "name": "stdout",
     "output_type": "stream",
     "text": [
      "{'aeroplane': 36104766, 'bicycle': 32324795, 'bird': 47869484, 'boat': 39348454, 'bottle': 59608857, 'bus': 40149580, 'car': 77223394, 'cat': 48294366, 'chair': 91333297, 'cow': 48001171, 'diningtable': 28497901, 'dog': 50318896, 'horse': 33961422, 'motorbike': 34257763, 'person': 286092724, 'pottedplant': 53625711, 'sheep': 54338101, 'sofa': 35565297, 'train': 32379798, 'tvmonitor': 34740846}\n"
     ]
    }
   ],
   "source": [
    "print(pixel)"
   ]
  },
  {
   "cell_type": "code",
   "execution_count": 13,
   "metadata": {},
   "outputs": [],
   "source": [
    "json.save_json(json_path + 'object_class_pixel' , list(map(int, list(pixel.values()))))"
   ]
  },
  {
   "cell_type": "code",
   "execution_count": 15,
   "metadata": {},
   "outputs": [],
   "source": [
    "data = VOCSegmentation(root = root_path,\n",
    "                           year = '2012',\n",
    "                           image_set = 'trainval',\n",
    "                           download = False,\n",
    "                           transform = transforms.ToTensor(),\n",
    "                           target_transform = transforms.ToTensor(),\n",
    "                           transforms = None,\n",
    "                           target = 'Class')\n",
    "data = iter(torch.utils.data.DataLoader(data,\n",
    "                                        batch_size = 1,\n",
    "                                        shuffle = False,\n",
    "                                        num_workers = 0))\n",
    "\n",
    "annotations = json.open_json(json_path + \"voc-class-annotations\")\n",
    "N = len(annotations)\n",
    "annotations = iter(annotations.items())"
   ]
  },
  {
   "cell_type": "code",
   "execution_count": 16,
   "metadata": {},
   "outputs": [],
   "source": [
    "pixel = {c : 0 for c in classes}"
   ]
  },
  {
   "cell_type": "code",
   "execution_count": 17,
   "metadata": {},
   "outputs": [],
   "source": [
    "for i in range(N):    \n",
    "    img, sgm = next(data)\n",
    "    sgm = torch.squeeze(sgm)\n",
    "\n",
    "    sgm      = im.f1_to_f255(sgm.numpy())\n",
    "    undef    = np.where(sgm == 255, 1, 0)\n",
    "    \n",
    "    nb_pixel = sgm.size - np.sum(undef)\n",
    "    \n",
    "    _, annots = next(annotations)\n",
    "\n",
    "    for c in annots:\n",
    "        pixel[c] = pixel[c] + nb_pixel"
   ]
  },
  {
   "cell_type": "code",
   "execution_count": 18,
   "metadata": {},
   "outputs": [
    {
     "name": "stdout",
     "output_type": "stream",
     "text": [
      "{'aeroplane': 29347825, 'bicycle': 23683797, 'bird': 36360396, 'boat': 25635827, 'bottle': 30660706, 'bus': 25950500, 'car': 42758578, 'cat': 42074813, 'chair': 45563155, 'cow': 23063593, 'diningtable': 26671665, 'dog': 41942977, 'horse': 24584431, 'motorbike': 26698617, 'person': 147216559, 'pottedplant': 27858032, 'sheep': 20955524, 'sofa': 31083202, 'train': 28577996, 'tvmonitor': 27583718}\n"
     ]
    }
   ],
   "source": [
    "print(pixel)"
   ]
  },
  {
   "cell_type": "code",
   "execution_count": 31,
   "metadata": {},
   "outputs": [],
   "source": [
    "json.save_json(json_path + 'class_class_pixel' , list(map(int, list(pixel.values()))))"
   ]
  }
 ],
 "metadata": {
  "kernelspec": {
   "display_name": "Python 3",
   "language": "python",
   "name": "python3"
  },
  "language_info": {
   "codemirror_mode": {
    "name": "ipython",
    "version": 3
   },
   "file_extension": ".py",
   "mimetype": "text/x-python",
   "name": "python",
   "nbconvert_exporter": "python",
   "pygments_lexer": "ipython3",
   "version": "3.7.3"
  }
 },
 "nbformat": 4,
 "nbformat_minor": 4
}
