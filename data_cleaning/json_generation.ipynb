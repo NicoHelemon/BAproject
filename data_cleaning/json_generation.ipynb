{
 "cells": [
  {
   "cell_type": "code",
   "execution_count": 20,
   "metadata": {},
   "outputs": [],
   "source": [
    "import numpy as np\n",
    "import os\n",
    "import xml.etree.ElementTree as ET\n",
    "import pandas as pd\n",
    "\n",
    "import sys\n",
    "sys.path.append('../')\n",
    "import utils.json as json\n",
    "import utils.image as im"
   ]
  },
  {
   "cell_type": "code",
   "execution_count": 21,
   "metadata": {},
   "outputs": [],
   "source": [
    "input_dir = r'C:\\Users\\Nicol\\Documents\\EPFL\\BA7\\Project\\Code\\voc\\VOCdevkit\\VOC2012\\\\'\n",
    "\n",
    "output_dir = r'C:\\Users\\Nicol\\Documents\\EPFL\\BA7\\Project\\Code\\voc\\json\\\\'"
   ]
  },
  {
   "cell_type": "code",
   "execution_count": 3,
   "metadata": {},
   "outputs": [],
   "source": [
    "img_names = [name[:-4] for name in os.listdir(input_dir + 'SegmentationObject')]\n",
    "json.save_json(output_dir + 'voc-img-names', img_names)"
   ]
  },
  {
   "cell_type": "code",
   "execution_count": 4,
   "metadata": {},
   "outputs": [],
   "source": [
    "object_annotations = {}\n",
    "\n",
    "for name in img_names:\n",
    "    tree = ET.parse(input_dir + 'Annotations\\\\' + name + '.xml')\n",
    "    path = './/object/bndbox//'\n",
    "    xmin = tree.findall(path + 'xmin')\n",
    "    ymin = tree.findall(path + 'ymin')\n",
    "    xmax = tree.findall(path + 'xmax')\n",
    "    ymax = tree.findall(path + 'ymax')\n",
    "\n",
    "    obj_class = [c.text for c in tree.findall('.//object/name')]\n",
    "    obj_difficult = [int(d.text) for d in tree.findall('.//object/difficult')]\n",
    "\n",
    "    def cbbox(bbox):\n",
    "        return [coord - 1 for coord in bbox]\n",
    "\n",
    "    obj_bbox = [cbbox([int(coord.text) for coord in bbox]) for bbox in zip(xmin, ymin, xmax, ymax)]\n",
    "\n",
    "    object_annotations[name] = [(c, d, b) for (c, d, b) in zip(obj_class, obj_difficult, obj_bbox)]\n",
    "    \n",
    "json.save_json(output_dir + 'voc-object-annotations', object_annotations)"
   ]
  },
  {
   "cell_type": "code",
   "execution_count": 6,
   "metadata": {},
   "outputs": [],
   "source": [
    "class_annotations = {}\n",
    "\n",
    "for name in img_names:\n",
    "    tree = ET.parse(input_dir + 'Annotations\\\\' + name + '.xml')\n",
    "    obj_class = [c.text for c in tree.findall('.//object/name')]\n",
    "    \n",
    "    class_annotations[name] = np.sort(np.unique(obj_class)).tolist()\n",
    "    \n",
    "json.save_json(output_dir + 'voc-class-annotations', class_annotations)"
   ]
  },
  {
   "cell_type": "code",
   "execution_count": 13,
   "metadata": {},
   "outputs": [],
   "source": [
    "names = [name for (name, annot) in object_annotations.items() for _ in annot]\n",
    "classes = [c for annot in object_annotations.values() for (c, d, b) in annot]\n",
    "difficulties = [int(d) for annot in object_annotations.values() for (c, d, b) in annot]\n",
    "bboxes = [b for annot in object_annotations.values() for (c, d, b) in annot]\n",
    "areas = [im.area_dbbox(im.corner_to_delta(b)) for b in bboxes]\n",
    "\n",
    "df = pd.DataFrame(list(zip(names, classes, difficulties, bboxes, areas)),\n",
    "               columns =['Name', 'Class', 'Difficulty', 'cBbox', 'Area'])\n",
    "\n",
    "df.to_csv(output_dir + 'voc-object-annotations.csv', index = False)"
   ]
  },
  {
   "cell_type": "code",
   "execution_count": 22,
   "metadata": {},
   "outputs": [],
   "source": [
    "object_annotations_clean = json.open_json(output_dir + 'voc-object-annotations-clean')\n",
    "\n",
    "names = [name for (name, annot) in object_annotations_clean.items() for _ in annot]\n",
    "classes = [c for annot in object_annotations_clean.values() for (c, d, b) in annot]\n",
    "difficulties = [int(d) for annot in object_annotations_clean.values() for (c, d, b) in annot]\n",
    "bboxes = [b for annot in object_annotations_clean.values() for (c, d, b) in annot]\n",
    "areas = [im.area_dbbox(im.corner_to_delta(b)) for b in bboxes]\n",
    "\n",
    "df = pd.DataFrame(list(zip(names, classes, difficulties, bboxes, areas)),\n",
    "               columns =['Name', 'Class', 'Difficulty', 'cBbox', 'Area'])\n",
    "\n",
    "df.to_csv(output_dir + 'voc-object-annotations-clean.csv', index = False)"
   ]
  },
  {
   "cell_type": "code",
   "execution_count": 26,
   "metadata": {},
   "outputs": [],
   "source": [
    "class_annotations = json.open_json(output_dir + 'voc-class-annotations')\n",
    "\n",
    "names = [name for (name, annot) in class_annotations.items() for _ in annot]\n",
    "classes = [c for annot in class_annotations.values() for c in annot]\n",
    "\n",
    "df = pd.DataFrame(list(zip(names, classes)), columns =['Name', 'Class'])\n",
    "\n",
    "df.to_csv(output_dir + 'voc-class-annotations.csv', index = False)"
   ]
  },
  {
   "cell_type": "code",
   "execution_count": 19,
   "metadata": {},
   "outputs": [],
   "source": [
    "voc_classes = np.unique(df['Class']).tolist()\n",
    "\n",
    "json.save_json(output_dir + 'voc-classes', voc_classes)"
   ]
  }
 ],
 "metadata": {
  "kernelspec": {
   "display_name": "Python 3",
   "language": "python",
   "name": "python3"
  },
  "language_info": {
   "codemirror_mode": {
    "name": "ipython",
    "version": 3
   },
   "file_extension": ".py",
   "mimetype": "text/x-python",
   "name": "python",
   "nbconvert_exporter": "python",
   "pygments_lexer": "ipython3",
   "version": "3.7.3"
  }
 },
 "nbformat": 4,
 "nbformat_minor": 4
}
