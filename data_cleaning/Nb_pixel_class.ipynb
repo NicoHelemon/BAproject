{
 "cells": [
  {
   "cell_type": "code",
   "execution_count": 1,
   "metadata": {},
   "outputs": [],
   "source": [
    "from torchvision import transforms\n",
    "import torch\n",
    "import numpy as np\n",
    "import pandas as pd\n",
    "from pathlib import Path\n",
    "\n",
    "import sys\n",
    "sys.path.append('../')\n",
    "import utils.image as im\n",
    "import utils.json as json\n",
    "import utils.path as path\n",
    "\n",
    "from utils.VOCSegmentation import VOCSegmentation\n",
    "\n",
    "root_path   = path.goback_from_current_dir(1)\n",
    "json_path   = root_path + 'json\\\\'"
   ]
  },
  {
   "cell_type": "code",
   "execution_count": 2,
   "metadata": {},
   "outputs": [],
   "source": [
    "data = VOCSegmentation(root = root_path,\n",
    "                           year = '2012',\n",
    "                           image_set = 'trainval',\n",
    "                           download = False,\n",
    "                           transform = transforms.ToTensor(),\n",
    "                           target_transform = transforms.ToTensor(),\n",
    "                           transforms = None,\n",
    "                           target = 'Object')\n",
    "data = iter(torch.utils.data.DataLoader(data,\n",
    "                                        batch_size = 1,\n",
    "                                        shuffle = False,\n",
    "                                        num_workers = 0))"
   ]
  },
  {
   "cell_type": "code",
   "execution_count": 3,
   "metadata": {},
   "outputs": [],
   "source": [
    "annotations = json.open_json(json_path + \"voc-object-annotations-clean\")\n",
    "N = len(annotations)\n",
    "annotations = iter(annotations.items())\n",
    "\n",
    "classes = json.open_json(json_path + \"voc-classes\")"
   ]
  },
  {
   "cell_type": "code",
   "execution_count": 4,
   "metadata": {},
   "outputs": [],
   "source": [
    "pixel = {c : 0 for c in classes}"
   ]
  },
  {
   "cell_type": "code",
   "execution_count": 5,
   "metadata": {},
   "outputs": [],
   "source": [
    "for i in range(N):    \n",
    "    img, sgm = next(data)\n",
    "    sgm = torch.squeeze(sgm)\n",
    "\n",
    "    sgm      = im.f1_to_f255(sgm.numpy())\n",
    "    undef    = np.where(sgm == 255, 1, 0)\n",
    "    \n",
    "    nb_pixel = sgm.size - np.sum(undef)\n",
    "    \n",
    "    _, annots = next(annotations)\n",
    "\n",
    "    for annot in annots:\n",
    "        c, _, _ = annot\n",
    "        \n",
    "        pixel[c] = pixel[c] + nb_pixel\n",
    "        \n",
    "    if i % 100 == 0:\n",
    "        print(i)"
   ]
  },
  {
   "cell_type": "code",
   "execution_count": 6,
   "metadata": {},
   "outputs": [
    {
     "name": "stdout",
     "output_type": "stream",
     "text": [
      "{'aeroplane': 36104766, 'bicycle': 32324795, 'bird': 47869484, 'boat': 39348454, 'bottle': 59608857, 'bus': 40149580, 'car': 77223394, 'cat': 48294366, 'chair': 91333297, 'cow': 48001171, 'diningtable': 28497901, 'dog': 50318896, 'horse': 33961422, 'motorbike': 34257763, 'person': 286092724, 'pottedplant': 53625711, 'sheep': 54338101, 'sofa': 35565297, 'train': 32379798, 'tvmonitor': 34740846}\n"
     ]
    }
   ],
   "source": [
    "print(pixel)"
   ]
  },
  {
   "cell_type": "code",
   "execution_count": 7,
   "metadata": {},
   "outputs": [],
   "source": [
    "json.save_json(json_path + 'object_class_pixel' , list(map(int, list(pixel.values()))))"
   ]
  },
  {
   "cell_type": "code",
   "execution_count": 8,
   "metadata": {},
   "outputs": [],
   "source": [
    "data = VOCSegmentation(root = root_path,\n",
    "                           year = '2012',\n",
    "                           image_set = 'trainval',\n",
    "                           download = False,\n",
    "                           transform = transforms.ToTensor(),\n",
    "                           target_transform = transforms.ToTensor(),\n",
    "                           transforms = None,\n",
    "                           target = 'Class')\n",
    "data = iter(torch.utils.data.DataLoader(data,\n",
    "                                        batch_size = 1,\n",
    "                                        shuffle = False,\n",
    "                                        num_workers = 0))\n",
    "\n",
    "annotations = json.open_json(json_path + \"voc-class-annotations\")\n",
    "N = len(annotations)\n",
    "annotations = iter(annotations.items())"
   ]
  },
  {
   "cell_type": "code",
   "execution_count": 9,
   "metadata": {},
   "outputs": [],
   "source": [
    "pixel = {c : 0 for c in classes}"
   ]
  },
  {
   "cell_type": "code",
   "execution_count": 10,
   "metadata": {},
   "outputs": [],
   "source": [
    "for i in range(N):    \n",
    "    img, sgm = next(data)\n",
    "    sgm = torch.squeeze(sgm)\n",
    "\n",
    "    sgm      = im.f1_to_f255(sgm.numpy())\n",
    "    undef    = np.where(sgm == 255, 1, 0)\n",
    "    \n",
    "    nb_pixel = sgm.size - np.sum(undef)\n",
    "    \n",
    "    _, annots = next(annotations)\n",
    "\n",
    "    for c in annots:\n",
    "        pixel[c] = pixel[c] + nb_pixel\n",
    "        \n",
    "    if i % 100 == 0:\n",
    "        print(i)"
   ]
  },
  {
   "cell_type": "code",
   "execution_count": 11,
   "metadata": {},
   "outputs": [
    {
     "name": "stdout",
     "output_type": "stream",
     "text": [
      "{'aeroplane': 29347825, 'bicycle': 23683797, 'bird': 36360396, 'boat': 25635827, 'bottle': 30660706, 'bus': 25950500, 'car': 42758578, 'cat': 42074813, 'chair': 45563155, 'cow': 23063593, 'diningtable': 26671665, 'dog': 41942977, 'horse': 24584431, 'motorbike': 26698617, 'person': 147216559, 'pottedplant': 27858032, 'sheep': 20955524, 'sofa': 31083202, 'train': 28577996, 'tvmonitor': 27583718}\n"
     ]
    }
   ],
   "source": [
    "print(pixel)"
   ]
  },
  {
   "cell_type": "code",
   "execution_count": 12,
   "metadata": {},
   "outputs": [],
   "source": [
    "json.save_json(json_path + 'class_class_pixel' , list(map(int, list(pixel.values()))))"
   ]
  }
 ],
 "metadata": {
  "kernelspec": {
   "display_name": "Python 3",
   "language": "python",
   "name": "python3"
  },
  "language_info": {
   "codemirror_mode": {
    "name": "ipython",
    "version": 3
   },
   "file_extension": ".py",
   "mimetype": "text/x-python",
   "name": "python",
   "nbconvert_exporter": "python",
   "pygments_lexer": "ipython3",
   "version": "3.7.3"
  }
 },
 "nbformat": 4,
 "nbformat_minor": 4
}
