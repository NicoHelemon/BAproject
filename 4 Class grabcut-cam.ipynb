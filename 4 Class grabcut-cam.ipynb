{
 "cells": [
  {
   "cell_type": "code",
   "execution_count": null,
   "metadata": {},
   "outputs": [],
   "source": [
    "from torchvision import transforms\n",
    "import torch\n",
    "import numpy as np\n",
    "import cv2\n",
    "from matplotlib import pyplot as plt\n",
    "from PIL import Image\n",
    "import timeit\n",
    "import pandas as pd\n",
    "import gc\n",
    "\n",
    "import utils.image as im\n",
    "import utils.cam as cam\n",
    "import utils.grabcut as gcut\n",
    "import utils.voc as voc\n",
    "import utils.json as json\n",
    "from utils.VOCSegmentation import VOCSegmentation"
   ]
  },
  {
   "cell_type": "code",
   "execution_count": null,
   "metadata": {},
   "outputs": [],
   "source": [
    "root_path = r'C:\\Users\\Nicol\\Documents\\EPFL\\BA7\\Project\\Code\\voc\\\\'\n",
    "\n",
    "json_path = r'C:\\Users\\Nicol\\Documents\\EPFL\\BA7\\Project\\Code\\voc\\json\\\\'\n",
    "\n",
    "output_path = r'C:\\Users\\Nicol\\Documents\\EPFL\\BA7\\Project\\Code\\voc\\sessions\\4 Class grabcut-cam\\\\'"
   ]
  },
  {
   "cell_type": "code",
   "execution_count": null,
   "metadata": {},
   "outputs": [],
   "source": [
    "camnet = cam.Cam()"
   ]
  },
  {
   "cell_type": "code",
   "execution_count": null,
   "metadata": {},
   "outputs": [],
   "source": [
    "data_tbl = VOCSegmentation(root = root_path,\n",
    "                           year = '2012',\n",
    "                           image_set = 'trainval',\n",
    "                           download = False,\n",
    "                           transform = transforms.ToTensor(),\n",
    "                           target_transform = transforms.ToTensor(),\n",
    "                           transforms = None,\n",
    "                           target = 'Class')"
   ]
  },
  {
   "cell_type": "code",
   "execution_count": null,
   "metadata": {},
   "outputs": [],
   "source": [
    "data = iter(torch.utils.data.DataLoader(data_tbl,\n",
    "                                        batch_size = 1,\n",
    "                                        shuffle = False,\n",
    "                                        num_workers = 0))"
   ]
  },
  {
   "cell_type": "code",
   "execution_count": null,
   "metadata": {},
   "outputs": [],
   "source": [
    "annotations = json.open_json(json_path + \"voc-class-annotations\")\n",
    "N = len(annotations)\n",
    "annotations = iter(annotations.items())\n",
    "\n",
    "classes = json.open_json(json_path + \"voc-classes\")"
   ]
  },
  {
   "cell_type": "code",
   "execution_count": null,
   "metadata": {
    "scrolled": false
   },
   "outputs": [],
   "source": [
    "IoU = np.array([])\n",
    "time = np.array([])\n",
    "\n",
    "for i in range(N):\n",
    "    start = timeit.default_timer()\n",
    "    gc.collect()\n",
    "    \n",
    "    img, sgm = next(data)\n",
    "    img, sgm = torch.squeeze(img), torch.squeeze(sgm)\n",
    "\n",
    "    img_pil = img\n",
    "    img_cv2 = im.pil_to_cv2(img.numpy())\n",
    "    sgm     = im.f1_to_f255(sgm.numpy())\n",
    "    \n",
    "    name, annots = next(annotations)\n",
    "    \n",
    "    for c in annots:\n",
    "        \n",
    "        img_cam = camnet.get_top(img_pil, c)\n",
    "        img_cam = cam.cam_process(img_pil, img_cam)\n",
    "        gcmask_cam = cam.cam_to_gcmask(img_cam, a = 0.0, b = 0.2, c = 1.0)\n",
    "        _, _, pred = gcut.grabcut(img_cv2, gcmask_cam, mode = 'MASK')\n",
    "        \n",
    "        true = voc.true_mask(sgm, classes.index(c) + 1, dilation = 0)\n",
    "        \n",
    "        IoU = np.append(IoU, voc.IoU_acc_undef(true, pred, sgm))\n",
    "        \n",
    "    stop = timeit.default_timer()\n",
    "    time = np.append(time, stop - start)\n",
    "    if i % 20 == 0:\n",
    "        print(f'Image nb {i}')\n",
    "        print(f'Time spent               = ' + voc.time_str(np.sum(time)))\n",
    "        print(f'Estimated time remaining = ' + voc.time_str(np.mean(time) * (N - 1 - i)))\n",
    "        print(f'Mean IoU                 =  {np.mean(IoU) :.3f}')\n",
    "        print()"
   ]
  },
  {
   "cell_type": "code",
   "execution_count": null,
   "metadata": {},
   "outputs": [],
   "source": [
    "print(f'Mean IoU = {np.mean(IoU):.3f}')"
   ]
  },
  {
   "cell_type": "code",
   "execution_count": null,
   "metadata": {},
   "outputs": [],
   "source": [
    "df = pd.read_csv(r'C:\\Users\\Nicol\\Documents\\EPFL\\BA7\\Project\\Code\\voc\\json\\voc-class-annotations.csv')"
   ]
  },
  {
   "cell_type": "code",
   "execution_count": null,
   "metadata": {},
   "outputs": [],
   "source": [
    "df['IoU'] = IoU"
   ]
  },
  {
   "cell_type": "code",
   "execution_count": null,
   "metadata": {},
   "outputs": [],
   "source": [
    "df.to_csv(output_path + 'IoU.csv', index = False)"
   ]
  }
 ],
 "metadata": {
  "kernelspec": {
   "display_name": "Python 3",
   "language": "python",
   "name": "python3"
  },
  "language_info": {
   "codemirror_mode": {
    "name": "ipython",
    "version": 3
   },
   "file_extension": ".py",
   "mimetype": "text/x-python",
   "name": "python",
   "nbconvert_exporter": "python",
   "pygments_lexer": "ipython3",
   "version": "3.7.3"
  }
 },
 "nbformat": 4,
 "nbformat_minor": 4
}
